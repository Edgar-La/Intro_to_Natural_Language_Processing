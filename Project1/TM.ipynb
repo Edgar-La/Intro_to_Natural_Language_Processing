{
  "cells": [
    {
      "cell_type": "markdown",
      "metadata": {
        "id": "view-in-github",
        "colab_type": "text"
      },
      "source": [
        "<a href=\"https://colab.research.google.com/github/Edgar-La/Intro_to_Natural_Language_Processing/blob/main/Project1/TM.ipynb\" target=\"_parent\"><img src=\"https://colab.research.google.com/assets/colab-badge.svg\" alt=\"Open In Colab\"/></a>"
      ]
    },
    {
      "cell_type": "markdown",
      "id": "7e6263ed",
      "metadata": {
        "id": "7e6263ed"
      },
      "source": [
        "Bird, Steven, Edward Loper and Ewan Klein (2009), Natural Language Processing with Python. O’Reilly Media Inc."
      ]
    },
    {
      "cell_type": "markdown",
      "source": [
        "# Descargar el archivo a analizar"
      ],
      "metadata": {
        "id": "gSDfJLzlithE"
      },
      "id": "gSDfJLzlithE"
    },
    {
      "cell_type": "code",
      "source": [
        "!gdown --id 1A0ijJSvPRO3DPX_O50dsmq4EsEWaDGxc"
      ],
      "metadata": {
        "id": "_v_fyUyBiwui",
        "outputId": "9676a2e8-18b1-476a-a451-e4c65060b4b4",
        "colab": {
          "base_uri": "https://localhost:8080/"
        }
      },
      "id": "_v_fyUyBiwui",
      "execution_count": 1,
      "outputs": [
        {
          "output_type": "stream",
          "name": "stdout",
          "text": [
            "/usr/local/lib/python3.7/dist-packages/gdown/cli.py:131: FutureWarning: Option `--id` was deprecated in version 4.3.1 and will be removed in 5.0. You don't need to pass it anymore to use a file ID.\n",
            "  category=FutureWarning,\n",
            "Downloading...\n",
            "From: https://drive.google.com/uc?id=1A0ijJSvPRO3DPX_O50dsmq4EsEWaDGxc\n",
            "To: /content/Datasets - Comments.xlsx\n",
            "100% 81.5k/81.5k [00:00<00:00, 47.1MB/s]\n"
          ]
        }
      ]
    },
    {
      "cell_type": "markdown",
      "id": "56f6f897",
      "metadata": {
        "id": "56f6f897"
      },
      "source": [
        "# Importar paquetes"
      ]
    },
    {
      "cell_type": "markdown",
      "id": "27f32f3f",
      "metadata": {
        "id": "27f32f3f"
      },
      "source": [
        "## Pre-procesamiento"
      ]
    },
    {
      "cell_type": "code",
      "execution_count": 42,
      "id": "094f7dde",
      "metadata": {
        "colab": {
          "base_uri": "https://localhost:8080/"
        },
        "id": "094f7dde",
        "outputId": "870ebdb9-fe46-4c9b-e3d6-42bc4b9babbb"
      },
      "outputs": [
        {
          "output_type": "stream",
          "name": "stdout",
          "text": [
            "Requirement already satisfied: langdetect in /usr/local/lib/python3.7/dist-packages (1.0.9)\n",
            "Requirement already satisfied: six in /usr/local/lib/python3.7/dist-packages (from langdetect) (1.15.0)\n",
            "Requirement already satisfied: iso-639 in /usr/local/lib/python3.7/dist-packages (0.4.5)\n",
            "[nltk_data] Downloading package stopwords to /root/nltk_data...\n",
            "[nltk_data]   Package stopwords is already up-to-date!\n",
            "[nltk_data] Downloading package punkt to /root/nltk_data...\n",
            "[nltk_data]   Package punkt is already up-to-date!\n"
          ]
        }
      ],
      "source": [
        "import pandas as pd\n",
        "import numpy as np\n",
        "!pip install langdetect\n",
        "!pip install iso-639\n",
        "from langdetect import detect, DetectorFactory\n",
        "from iso639 import languages\n",
        "import nltk\n",
        "nltk.download('stopwords')\n",
        "from nltk.corpus import stopwords\n",
        "nltk.download('punkt')\n",
        "from nltk.tokenize import word_tokenize\n",
        "import string\n",
        "from sklearn.cluster import KMeans\n",
        "from sklearn.svm import SVC\n",
        "from sklearn.naive_bayes import GaussianNB\n",
        "import sklearn.metrics as skl\n",
        "import matplotlib.pyplot as plt\n",
        "import itertools\n",
        "from sklearn.metrics import f1_score"
      ]
    },
    {
      "cell_type": "markdown",
      "id": "64048390",
      "metadata": {
        "id": "64048390"
      },
      "source": [
        "### Se guarda la hoja de excel como dataframe"
      ]
    },
    {
      "cell_type": "code",
      "execution_count": 3,
      "id": "81ad8b48",
      "metadata": {
        "colab": {
          "base_uri": "https://localhost:8080/",
          "height": 206
        },
        "id": "81ad8b48",
        "outputId": "6164257e-7d15-4f08-bb49-fb767566a82b"
      },
      "outputs": [
        {
          "output_type": "execute_result",
          "data": {
            "text/plain": [
              "   Unnamed: 0 Unnamed: 1                    Unnamed: 2        Unnamed: 3  \\\n",
              "0         NaN        NaN                           NaN               NaN   \n",
              "1         NaN        NaN                           NaN               NaN   \n",
              "2         NaN         No  Name (click to view profile)  Crítico de nivel   \n",
              "3         NaN          1                    Cipriano N                 2   \n",
              "4         NaN          2                    Oaxacalife                 3   \n",
              "\n",
              "  Unnamed: 4                     Unnamed: 5           Unnamed: 6 Unnamed: 7  \\\n",
              "0        NaN  Rango de fecha de comentarios                  NaN        NaN   \n",
              "1        NaN                            NaN                  NaN        NaN   \n",
              "2       City                     Profile ID                 Date      Likes   \n",
              "3    Orizaba                              -  23 de marzo de 2016        NaN   \n",
              "4    Orizaba                            NaN   5 de junio de 2016        NaN   \n",
              "\n",
              "                                          Unnamed: 8   Unnamed: 9  \n",
              "0                                        2015 - 2021          NaN  \n",
              "1                                                NaN          NaN  \n",
              "2                                            Comment  View Source  \n",
              "3  El lugar es genial para comer hasta que te dej...          NaN  \n",
              "4  Limpio y bien diseñado. Bebidas y maravillosa ...          NaN  "
            ],
            "text/html": [
              "\n",
              "  <div id=\"df-7b93edeb-2b37-4e80-befd-434d4c5e0e9f\">\n",
              "    <div class=\"colab-df-container\">\n",
              "      <div>\n",
              "<style scoped>\n",
              "    .dataframe tbody tr th:only-of-type {\n",
              "        vertical-align: middle;\n",
              "    }\n",
              "\n",
              "    .dataframe tbody tr th {\n",
              "        vertical-align: top;\n",
              "    }\n",
              "\n",
              "    .dataframe thead th {\n",
              "        text-align: right;\n",
              "    }\n",
              "</style>\n",
              "<table border=\"1\" class=\"dataframe\">\n",
              "  <thead>\n",
              "    <tr style=\"text-align: right;\">\n",
              "      <th></th>\n",
              "      <th>Unnamed: 0</th>\n",
              "      <th>Unnamed: 1</th>\n",
              "      <th>Unnamed: 2</th>\n",
              "      <th>Unnamed: 3</th>\n",
              "      <th>Unnamed: 4</th>\n",
              "      <th>Unnamed: 5</th>\n",
              "      <th>Unnamed: 6</th>\n",
              "      <th>Unnamed: 7</th>\n",
              "      <th>Unnamed: 8</th>\n",
              "      <th>Unnamed: 9</th>\n",
              "    </tr>\n",
              "  </thead>\n",
              "  <tbody>\n",
              "    <tr>\n",
              "      <th>0</th>\n",
              "      <td>NaN</td>\n",
              "      <td>NaN</td>\n",
              "      <td>NaN</td>\n",
              "      <td>NaN</td>\n",
              "      <td>NaN</td>\n",
              "      <td>Rango de fecha de comentarios</td>\n",
              "      <td>NaN</td>\n",
              "      <td>NaN</td>\n",
              "      <td>2015 - 2021</td>\n",
              "      <td>NaN</td>\n",
              "    </tr>\n",
              "    <tr>\n",
              "      <th>1</th>\n",
              "      <td>NaN</td>\n",
              "      <td>NaN</td>\n",
              "      <td>NaN</td>\n",
              "      <td>NaN</td>\n",
              "      <td>NaN</td>\n",
              "      <td>NaN</td>\n",
              "      <td>NaN</td>\n",
              "      <td>NaN</td>\n",
              "      <td>NaN</td>\n",
              "      <td>NaN</td>\n",
              "    </tr>\n",
              "    <tr>\n",
              "      <th>2</th>\n",
              "      <td>NaN</td>\n",
              "      <td>No</td>\n",
              "      <td>Name (click to view profile)</td>\n",
              "      <td>Crítico de nivel</td>\n",
              "      <td>City</td>\n",
              "      <td>Profile ID</td>\n",
              "      <td>Date</td>\n",
              "      <td>Likes</td>\n",
              "      <td>Comment</td>\n",
              "      <td>View Source</td>\n",
              "    </tr>\n",
              "    <tr>\n",
              "      <th>3</th>\n",
              "      <td>NaN</td>\n",
              "      <td>1</td>\n",
              "      <td>Cipriano N</td>\n",
              "      <td>2</td>\n",
              "      <td>Orizaba</td>\n",
              "      <td>-</td>\n",
              "      <td>23 de marzo de 2016</td>\n",
              "      <td>NaN</td>\n",
              "      <td>El lugar es genial para comer hasta que te dej...</td>\n",
              "      <td>NaN</td>\n",
              "    </tr>\n",
              "    <tr>\n",
              "      <th>4</th>\n",
              "      <td>NaN</td>\n",
              "      <td>2</td>\n",
              "      <td>Oaxacalife</td>\n",
              "      <td>3</td>\n",
              "      <td>Orizaba</td>\n",
              "      <td>NaN</td>\n",
              "      <td>5 de junio de 2016</td>\n",
              "      <td>NaN</td>\n",
              "      <td>Limpio y bien diseñado. Bebidas y maravillosa ...</td>\n",
              "      <td>NaN</td>\n",
              "    </tr>\n",
              "  </tbody>\n",
              "</table>\n",
              "</div>\n",
              "      <button class=\"colab-df-convert\" onclick=\"convertToInteractive('df-7b93edeb-2b37-4e80-befd-434d4c5e0e9f')\"\n",
              "              title=\"Convert this dataframe to an interactive table.\"\n",
              "              style=\"display:none;\">\n",
              "        \n",
              "  <svg xmlns=\"http://www.w3.org/2000/svg\" height=\"24px\"viewBox=\"0 0 24 24\"\n",
              "       width=\"24px\">\n",
              "    <path d=\"M0 0h24v24H0V0z\" fill=\"none\"/>\n",
              "    <path d=\"M18.56 5.44l.94 2.06.94-2.06 2.06-.94-2.06-.94-.94-2.06-.94 2.06-2.06.94zm-11 1L8.5 8.5l.94-2.06 2.06-.94-2.06-.94L8.5 2.5l-.94 2.06-2.06.94zm10 10l.94 2.06.94-2.06 2.06-.94-2.06-.94-.94-2.06-.94 2.06-2.06.94z\"/><path d=\"M17.41 7.96l-1.37-1.37c-.4-.4-.92-.59-1.43-.59-.52 0-1.04.2-1.43.59L10.3 9.45l-7.72 7.72c-.78.78-.78 2.05 0 2.83L4 21.41c.39.39.9.59 1.41.59.51 0 1.02-.2 1.41-.59l7.78-7.78 2.81-2.81c.8-.78.8-2.07 0-2.86zM5.41 20L4 18.59l7.72-7.72 1.47 1.35L5.41 20z\"/>\n",
              "  </svg>\n",
              "      </button>\n",
              "      \n",
              "  <style>\n",
              "    .colab-df-container {\n",
              "      display:flex;\n",
              "      flex-wrap:wrap;\n",
              "      gap: 12px;\n",
              "    }\n",
              "\n",
              "    .colab-df-convert {\n",
              "      background-color: #E8F0FE;\n",
              "      border: none;\n",
              "      border-radius: 50%;\n",
              "      cursor: pointer;\n",
              "      display: none;\n",
              "      fill: #1967D2;\n",
              "      height: 32px;\n",
              "      padding: 0 0 0 0;\n",
              "      width: 32px;\n",
              "    }\n",
              "\n",
              "    .colab-df-convert:hover {\n",
              "      background-color: #E2EBFA;\n",
              "      box-shadow: 0px 1px 2px rgba(60, 64, 67, 0.3), 0px 1px 3px 1px rgba(60, 64, 67, 0.15);\n",
              "      fill: #174EA6;\n",
              "    }\n",
              "\n",
              "    [theme=dark] .colab-df-convert {\n",
              "      background-color: #3B4455;\n",
              "      fill: #D2E3FC;\n",
              "    }\n",
              "\n",
              "    [theme=dark] .colab-df-convert:hover {\n",
              "      background-color: #434B5C;\n",
              "      box-shadow: 0px 1px 3px 1px rgba(0, 0, 0, 0.15);\n",
              "      filter: drop-shadow(0px 1px 2px rgba(0, 0, 0, 0.3));\n",
              "      fill: #FFFFFF;\n",
              "    }\n",
              "  </style>\n",
              "\n",
              "      <script>\n",
              "        const buttonEl =\n",
              "          document.querySelector('#df-7b93edeb-2b37-4e80-befd-434d4c5e0e9f button.colab-df-convert');\n",
              "        buttonEl.style.display =\n",
              "          google.colab.kernel.accessAllowed ? 'block' : 'none';\n",
              "\n",
              "        async function convertToInteractive(key) {\n",
              "          const element = document.querySelector('#df-7b93edeb-2b37-4e80-befd-434d4c5e0e9f');\n",
              "          const dataTable =\n",
              "            await google.colab.kernel.invokeFunction('convertToInteractive',\n",
              "                                                     [key], {});\n",
              "          if (!dataTable) return;\n",
              "\n",
              "          const docLinkHtml = 'Like what you see? Visit the ' +\n",
              "            '<a target=\"_blank\" href=https://colab.research.google.com/notebooks/data_table.ipynb>data table notebook</a>'\n",
              "            + ' to learn more about interactive tables.';\n",
              "          element.innerHTML = '';\n",
              "          dataTable['output_type'] = 'display_data';\n",
              "          await google.colab.output.renderOutput(dataTable, element);\n",
              "          const docLink = document.createElement('div');\n",
              "          docLink.innerHTML = docLinkHtml;\n",
              "          element.appendChild(docLink);\n",
              "        }\n",
              "      </script>\n",
              "    </div>\n",
              "  </div>\n",
              "  "
            ]
          },
          "metadata": {},
          "execution_count": 3
        }
      ],
      "source": [
        "df = pd.read_excel('Datasets - Comments.xlsx', sheet_name = 'TripAdvisor')\n",
        "df.head()"
      ]
    },
    {
      "cell_type": "markdown",
      "id": "0127376d",
      "metadata": {
        "id": "0127376d"
      },
      "source": [
        "### Hay columnas que parecen sospechosas, lucen vacias entonces verificamos que en efecto lo sean"
      ]
    },
    {
      "cell_type": "code",
      "execution_count": 4,
      "id": "b717a33a",
      "metadata": {
        "colab": {
          "base_uri": "https://localhost:8080/"
        },
        "id": "b717a33a",
        "outputId": "021ecb91-91d8-41f5-deaf-ba04f3acdcb8"
      },
      "outputs": [
        {
          "output_type": "stream",
          "name": "stdout",
          "text": [
            "[nan]\n",
            "['Rango de fecha de comentarios' nan 'Profile ID' '-']\n",
            "[nan 'Likes']\n",
            "[nan 'View Source']\n"
          ]
        }
      ],
      "source": [
        "print(df['Unnamed: 0'].unique())\n",
        "print(df['Unnamed: 5'].unique())\n",
        "print(df['Unnamed: 7'].unique())\n",
        "print(df['Unnamed: 9'].unique())\n",
        "#print(df['Unnamed: 10'].unique())\n",
        "#print(df['Unnamed: 11'].unique())\n",
        "#print(df['Unnamed: 12'].unique())"
      ]
    },
    {
      "cell_type": "markdown",
      "id": "030e0ff5",
      "metadata": {
        "id": "030e0ff5"
      },
      "source": [
        "### Eliminamos esas columnas"
      ]
    },
    {
      "cell_type": "code",
      "execution_count": 5,
      "id": "bd7afd7c",
      "metadata": {
        "colab": {
          "base_uri": "https://localhost:8080/",
          "height": 206
        },
        "id": "bd7afd7c",
        "outputId": "b1cd6b5a-4d61-4fff-f6a4-9d4ce13c5d9d"
      },
      "outputs": [
        {
          "output_type": "execute_result",
          "data": {
            "text/plain": [
              "                     Unnamed: 2        Unnamed: 3 Unnamed: 4  \\\n",
              "0                           NaN               NaN        NaN   \n",
              "1                           NaN               NaN        NaN   \n",
              "2  Name (click to view profile)  Crítico de nivel       City   \n",
              "3                    Cipriano N                 2    Orizaba   \n",
              "4                    Oaxacalife                 3    Orizaba   \n",
              "\n",
              "            Unnamed: 6                                         Unnamed: 8  \n",
              "0                  NaN                                        2015 - 2021  \n",
              "1                  NaN                                                NaN  \n",
              "2                 Date                                            Comment  \n",
              "3  23 de marzo de 2016  El lugar es genial para comer hasta que te dej...  \n",
              "4   5 de junio de 2016  Limpio y bien diseñado. Bebidas y maravillosa ...  "
            ],
            "text/html": [
              "\n",
              "  <div id=\"df-4614b560-8412-440e-ba90-ed6d71c59167\">\n",
              "    <div class=\"colab-df-container\">\n",
              "      <div>\n",
              "<style scoped>\n",
              "    .dataframe tbody tr th:only-of-type {\n",
              "        vertical-align: middle;\n",
              "    }\n",
              "\n",
              "    .dataframe tbody tr th {\n",
              "        vertical-align: top;\n",
              "    }\n",
              "\n",
              "    .dataframe thead th {\n",
              "        text-align: right;\n",
              "    }\n",
              "</style>\n",
              "<table border=\"1\" class=\"dataframe\">\n",
              "  <thead>\n",
              "    <tr style=\"text-align: right;\">\n",
              "      <th></th>\n",
              "      <th>Unnamed: 2</th>\n",
              "      <th>Unnamed: 3</th>\n",
              "      <th>Unnamed: 4</th>\n",
              "      <th>Unnamed: 6</th>\n",
              "      <th>Unnamed: 8</th>\n",
              "    </tr>\n",
              "  </thead>\n",
              "  <tbody>\n",
              "    <tr>\n",
              "      <th>0</th>\n",
              "      <td>NaN</td>\n",
              "      <td>NaN</td>\n",
              "      <td>NaN</td>\n",
              "      <td>NaN</td>\n",
              "      <td>2015 - 2021</td>\n",
              "    </tr>\n",
              "    <tr>\n",
              "      <th>1</th>\n",
              "      <td>NaN</td>\n",
              "      <td>NaN</td>\n",
              "      <td>NaN</td>\n",
              "      <td>NaN</td>\n",
              "      <td>NaN</td>\n",
              "    </tr>\n",
              "    <tr>\n",
              "      <th>2</th>\n",
              "      <td>Name (click to view profile)</td>\n",
              "      <td>Crítico de nivel</td>\n",
              "      <td>City</td>\n",
              "      <td>Date</td>\n",
              "      <td>Comment</td>\n",
              "    </tr>\n",
              "    <tr>\n",
              "      <th>3</th>\n",
              "      <td>Cipriano N</td>\n",
              "      <td>2</td>\n",
              "      <td>Orizaba</td>\n",
              "      <td>23 de marzo de 2016</td>\n",
              "      <td>El lugar es genial para comer hasta que te dej...</td>\n",
              "    </tr>\n",
              "    <tr>\n",
              "      <th>4</th>\n",
              "      <td>Oaxacalife</td>\n",
              "      <td>3</td>\n",
              "      <td>Orizaba</td>\n",
              "      <td>5 de junio de 2016</td>\n",
              "      <td>Limpio y bien diseñado. Bebidas y maravillosa ...</td>\n",
              "    </tr>\n",
              "  </tbody>\n",
              "</table>\n",
              "</div>\n",
              "      <button class=\"colab-df-convert\" onclick=\"convertToInteractive('df-4614b560-8412-440e-ba90-ed6d71c59167')\"\n",
              "              title=\"Convert this dataframe to an interactive table.\"\n",
              "              style=\"display:none;\">\n",
              "        \n",
              "  <svg xmlns=\"http://www.w3.org/2000/svg\" height=\"24px\"viewBox=\"0 0 24 24\"\n",
              "       width=\"24px\">\n",
              "    <path d=\"M0 0h24v24H0V0z\" fill=\"none\"/>\n",
              "    <path d=\"M18.56 5.44l.94 2.06.94-2.06 2.06-.94-2.06-.94-.94-2.06-.94 2.06-2.06.94zm-11 1L8.5 8.5l.94-2.06 2.06-.94-2.06-.94L8.5 2.5l-.94 2.06-2.06.94zm10 10l.94 2.06.94-2.06 2.06-.94-2.06-.94-.94-2.06-.94 2.06-2.06.94z\"/><path d=\"M17.41 7.96l-1.37-1.37c-.4-.4-.92-.59-1.43-.59-.52 0-1.04.2-1.43.59L10.3 9.45l-7.72 7.72c-.78.78-.78 2.05 0 2.83L4 21.41c.39.39.9.59 1.41.59.51 0 1.02-.2 1.41-.59l7.78-7.78 2.81-2.81c.8-.78.8-2.07 0-2.86zM5.41 20L4 18.59l7.72-7.72 1.47 1.35L5.41 20z\"/>\n",
              "  </svg>\n",
              "      </button>\n",
              "      \n",
              "  <style>\n",
              "    .colab-df-container {\n",
              "      display:flex;\n",
              "      flex-wrap:wrap;\n",
              "      gap: 12px;\n",
              "    }\n",
              "\n",
              "    .colab-df-convert {\n",
              "      background-color: #E8F0FE;\n",
              "      border: none;\n",
              "      border-radius: 50%;\n",
              "      cursor: pointer;\n",
              "      display: none;\n",
              "      fill: #1967D2;\n",
              "      height: 32px;\n",
              "      padding: 0 0 0 0;\n",
              "      width: 32px;\n",
              "    }\n",
              "\n",
              "    .colab-df-convert:hover {\n",
              "      background-color: #E2EBFA;\n",
              "      box-shadow: 0px 1px 2px rgba(60, 64, 67, 0.3), 0px 1px 3px 1px rgba(60, 64, 67, 0.15);\n",
              "      fill: #174EA6;\n",
              "    }\n",
              "\n",
              "    [theme=dark] .colab-df-convert {\n",
              "      background-color: #3B4455;\n",
              "      fill: #D2E3FC;\n",
              "    }\n",
              "\n",
              "    [theme=dark] .colab-df-convert:hover {\n",
              "      background-color: #434B5C;\n",
              "      box-shadow: 0px 1px 3px 1px rgba(0, 0, 0, 0.15);\n",
              "      filter: drop-shadow(0px 1px 2px rgba(0, 0, 0, 0.3));\n",
              "      fill: #FFFFFF;\n",
              "    }\n",
              "  </style>\n",
              "\n",
              "      <script>\n",
              "        const buttonEl =\n",
              "          document.querySelector('#df-4614b560-8412-440e-ba90-ed6d71c59167 button.colab-df-convert');\n",
              "        buttonEl.style.display =\n",
              "          google.colab.kernel.accessAllowed ? 'block' : 'none';\n",
              "\n",
              "        async function convertToInteractive(key) {\n",
              "          const element = document.querySelector('#df-4614b560-8412-440e-ba90-ed6d71c59167');\n",
              "          const dataTable =\n",
              "            await google.colab.kernel.invokeFunction('convertToInteractive',\n",
              "                                                     [key], {});\n",
              "          if (!dataTable) return;\n",
              "\n",
              "          const docLinkHtml = 'Like what you see? Visit the ' +\n",
              "            '<a target=\"_blank\" href=https://colab.research.google.com/notebooks/data_table.ipynb>data table notebook</a>'\n",
              "            + ' to learn more about interactive tables.';\n",
              "          element.innerHTML = '';\n",
              "          dataTable['output_type'] = 'display_data';\n",
              "          await google.colab.output.renderOutput(dataTable, element);\n",
              "          const docLink = document.createElement('div');\n",
              "          docLink.innerHTML = docLinkHtml;\n",
              "          element.appendChild(docLink);\n",
              "        }\n",
              "      </script>\n",
              "    </div>\n",
              "  </div>\n",
              "  "
            ]
          },
          "metadata": {},
          "execution_count": 5
        }
      ],
      "source": [
        "df.drop(columns = ['Unnamed: 0',\n",
        "                   'Unnamed: 1',\n",
        "                   'Unnamed: 5',\n",
        "                   'Unnamed: 7',\n",
        "                   'Unnamed: 9',\n",
        "                   #'Unnamed: 10',\n",
        "                   #'Unnamed: 11',\n",
        "                   #'Unnamed: 12'\n",
        "                   ],\n",
        "                   axis = 1, inplace = True)\n",
        "df.head()"
      ]
    },
    {
      "cell_type": "markdown",
      "id": "a189b9dc",
      "metadata": {
        "id": "a189b9dc"
      },
      "source": [
        "### Hay una fila (la segunda) que contiene el nombre las columnas, la obtenemos porque vamos a renombrar las columnas"
      ]
    },
    {
      "cell_type": "code",
      "execution_count": 6,
      "id": "a43f8293",
      "metadata": {
        "colab": {
          "base_uri": "https://localhost:8080/"
        },
        "id": "a43f8293",
        "outputId": "addcf33d-7f0b-4040-9436-4e16a151c3ea"
      },
      "outputs": [
        {
          "output_type": "execute_result",
          "data": {
            "text/plain": [
              "array(['Name (click to view profile)', 'Crítico de nivel', 'City', 'Date',\n",
              "       'Comment'], dtype=object)"
            ]
          },
          "metadata": {},
          "execution_count": 6
        }
      ],
      "source": [
        "columnas = df[df.columns].values[2]\n",
        "columnas"
      ]
    },
    {
      "cell_type": "markdown",
      "id": "7348fc2d",
      "metadata": {
        "id": "7348fc2d"
      },
      "source": [
        "### Eliminamos las filas que no contienen información importante y que eran parte del excel"
      ]
    },
    {
      "cell_type": "code",
      "execution_count": 7,
      "id": "d64d27b5",
      "metadata": {
        "colab": {
          "base_uri": "https://localhost:8080/",
          "height": 206
        },
        "id": "d64d27b5",
        "outputId": "4666383f-0982-4ce2-b9bf-529b240b1b43"
      },
      "outputs": [
        {
          "output_type": "execute_result",
          "data": {
            "text/plain": [
              "    Unnamed: 2 Unnamed: 3 Unnamed: 4           Unnamed: 6  \\\n",
              "3   Cipriano N          2    Orizaba  23 de marzo de 2016   \n",
              "4   Oaxacalife          3    Orizaba   5 de junio de 2016   \n",
              "5  AugustoLara          2    Orizaba    3 de febrero 2017   \n",
              "6     GABINO M          4    Orizaba   24 de mayo de 2017   \n",
              "7     MALH2001          -    Orizaba  15 de junio de 2017   \n",
              "\n",
              "                                          Unnamed: 8  \n",
              "3  El lugar es genial para comer hasta que te dej...  \n",
              "4  Limpio y bien diseñado. Bebidas y maravillosa ...  \n",
              "5  Muy buen restaurante de carnes, no dude en ped...  \n",
              "6  Este es un lugar donde se puede comer los taco...  \n",
              "7  La comida era deliciosa, me comí una hamburgue...  "
            ],
            "text/html": [
              "\n",
              "  <div id=\"df-cc06913a-5237-4ce4-9e54-66213f7fdc4e\">\n",
              "    <div class=\"colab-df-container\">\n",
              "      <div>\n",
              "<style scoped>\n",
              "    .dataframe tbody tr th:only-of-type {\n",
              "        vertical-align: middle;\n",
              "    }\n",
              "\n",
              "    .dataframe tbody tr th {\n",
              "        vertical-align: top;\n",
              "    }\n",
              "\n",
              "    .dataframe thead th {\n",
              "        text-align: right;\n",
              "    }\n",
              "</style>\n",
              "<table border=\"1\" class=\"dataframe\">\n",
              "  <thead>\n",
              "    <tr style=\"text-align: right;\">\n",
              "      <th></th>\n",
              "      <th>Unnamed: 2</th>\n",
              "      <th>Unnamed: 3</th>\n",
              "      <th>Unnamed: 4</th>\n",
              "      <th>Unnamed: 6</th>\n",
              "      <th>Unnamed: 8</th>\n",
              "    </tr>\n",
              "  </thead>\n",
              "  <tbody>\n",
              "    <tr>\n",
              "      <th>3</th>\n",
              "      <td>Cipriano N</td>\n",
              "      <td>2</td>\n",
              "      <td>Orizaba</td>\n",
              "      <td>23 de marzo de 2016</td>\n",
              "      <td>El lugar es genial para comer hasta que te dej...</td>\n",
              "    </tr>\n",
              "    <tr>\n",
              "      <th>4</th>\n",
              "      <td>Oaxacalife</td>\n",
              "      <td>3</td>\n",
              "      <td>Orizaba</td>\n",
              "      <td>5 de junio de 2016</td>\n",
              "      <td>Limpio y bien diseñado. Bebidas y maravillosa ...</td>\n",
              "    </tr>\n",
              "    <tr>\n",
              "      <th>5</th>\n",
              "      <td>AugustoLara</td>\n",
              "      <td>2</td>\n",
              "      <td>Orizaba</td>\n",
              "      <td>3 de febrero 2017</td>\n",
              "      <td>Muy buen restaurante de carnes, no dude en ped...</td>\n",
              "    </tr>\n",
              "    <tr>\n",
              "      <th>6</th>\n",
              "      <td>GABINO M</td>\n",
              "      <td>4</td>\n",
              "      <td>Orizaba</td>\n",
              "      <td>24 de mayo de 2017</td>\n",
              "      <td>Este es un lugar donde se puede comer los taco...</td>\n",
              "    </tr>\n",
              "    <tr>\n",
              "      <th>7</th>\n",
              "      <td>MALH2001</td>\n",
              "      <td>-</td>\n",
              "      <td>Orizaba</td>\n",
              "      <td>15 de junio de 2017</td>\n",
              "      <td>La comida era deliciosa, me comí una hamburgue...</td>\n",
              "    </tr>\n",
              "  </tbody>\n",
              "</table>\n",
              "</div>\n",
              "      <button class=\"colab-df-convert\" onclick=\"convertToInteractive('df-cc06913a-5237-4ce4-9e54-66213f7fdc4e')\"\n",
              "              title=\"Convert this dataframe to an interactive table.\"\n",
              "              style=\"display:none;\">\n",
              "        \n",
              "  <svg xmlns=\"http://www.w3.org/2000/svg\" height=\"24px\"viewBox=\"0 0 24 24\"\n",
              "       width=\"24px\">\n",
              "    <path d=\"M0 0h24v24H0V0z\" fill=\"none\"/>\n",
              "    <path d=\"M18.56 5.44l.94 2.06.94-2.06 2.06-.94-2.06-.94-.94-2.06-.94 2.06-2.06.94zm-11 1L8.5 8.5l.94-2.06 2.06-.94-2.06-.94L8.5 2.5l-.94 2.06-2.06.94zm10 10l.94 2.06.94-2.06 2.06-.94-2.06-.94-.94-2.06-.94 2.06-2.06.94z\"/><path d=\"M17.41 7.96l-1.37-1.37c-.4-.4-.92-.59-1.43-.59-.52 0-1.04.2-1.43.59L10.3 9.45l-7.72 7.72c-.78.78-.78 2.05 0 2.83L4 21.41c.39.39.9.59 1.41.59.51 0 1.02-.2 1.41-.59l7.78-7.78 2.81-2.81c.8-.78.8-2.07 0-2.86zM5.41 20L4 18.59l7.72-7.72 1.47 1.35L5.41 20z\"/>\n",
              "  </svg>\n",
              "      </button>\n",
              "      \n",
              "  <style>\n",
              "    .colab-df-container {\n",
              "      display:flex;\n",
              "      flex-wrap:wrap;\n",
              "      gap: 12px;\n",
              "    }\n",
              "\n",
              "    .colab-df-convert {\n",
              "      background-color: #E8F0FE;\n",
              "      border: none;\n",
              "      border-radius: 50%;\n",
              "      cursor: pointer;\n",
              "      display: none;\n",
              "      fill: #1967D2;\n",
              "      height: 32px;\n",
              "      padding: 0 0 0 0;\n",
              "      width: 32px;\n",
              "    }\n",
              "\n",
              "    .colab-df-convert:hover {\n",
              "      background-color: #E2EBFA;\n",
              "      box-shadow: 0px 1px 2px rgba(60, 64, 67, 0.3), 0px 1px 3px 1px rgba(60, 64, 67, 0.15);\n",
              "      fill: #174EA6;\n",
              "    }\n",
              "\n",
              "    [theme=dark] .colab-df-convert {\n",
              "      background-color: #3B4455;\n",
              "      fill: #D2E3FC;\n",
              "    }\n",
              "\n",
              "    [theme=dark] .colab-df-convert:hover {\n",
              "      background-color: #434B5C;\n",
              "      box-shadow: 0px 1px 3px 1px rgba(0, 0, 0, 0.15);\n",
              "      filter: drop-shadow(0px 1px 2px rgba(0, 0, 0, 0.3));\n",
              "      fill: #FFFFFF;\n",
              "    }\n",
              "  </style>\n",
              "\n",
              "      <script>\n",
              "        const buttonEl =\n",
              "          document.querySelector('#df-cc06913a-5237-4ce4-9e54-66213f7fdc4e button.colab-df-convert');\n",
              "        buttonEl.style.display =\n",
              "          google.colab.kernel.accessAllowed ? 'block' : 'none';\n",
              "\n",
              "        async function convertToInteractive(key) {\n",
              "          const element = document.querySelector('#df-cc06913a-5237-4ce4-9e54-66213f7fdc4e');\n",
              "          const dataTable =\n",
              "            await google.colab.kernel.invokeFunction('convertToInteractive',\n",
              "                                                     [key], {});\n",
              "          if (!dataTable) return;\n",
              "\n",
              "          const docLinkHtml = 'Like what you see? Visit the ' +\n",
              "            '<a target=\"_blank\" href=https://colab.research.google.com/notebooks/data_table.ipynb>data table notebook</a>'\n",
              "            + ' to learn more about interactive tables.';\n",
              "          element.innerHTML = '';\n",
              "          dataTable['output_type'] = 'display_data';\n",
              "          await google.colab.output.renderOutput(dataTable, element);\n",
              "          const docLink = document.createElement('div');\n",
              "          docLink.innerHTML = docLinkHtml;\n",
              "          element.appendChild(docLink);\n",
              "        }\n",
              "      </script>\n",
              "    </div>\n",
              "  </div>\n",
              "  "
            ]
          },
          "metadata": {},
          "execution_count": 7
        }
      ],
      "source": [
        "df.drop([0,1,2], axis=0, inplace=True)\n",
        "df.head()"
      ]
    },
    {
      "cell_type": "markdown",
      "id": "40890dfb",
      "metadata": {
        "id": "40890dfb"
      },
      "source": [
        "### Eliminamos el nombre de las columnas (para poder reasignar el nombre correcto)"
      ]
    },
    {
      "cell_type": "code",
      "execution_count": 8,
      "id": "e0e3aaff",
      "metadata": {
        "colab": {
          "base_uri": "https://localhost:8080/",
          "height": 189
        },
        "id": "e0e3aaff",
        "outputId": "a761d421-56b3-4616-b4ba-c2573158b59a"
      },
      "outputs": [
        {
          "output_type": "execute_result",
          "data": {
            "text/plain": [
              "                                                 \\\n",
              "3   Cipriano N  2  Orizaba  23 de marzo de 2016   \n",
              "4   Oaxacalife  3  Orizaba   5 de junio de 2016   \n",
              "5  AugustoLara  2  Orizaba    3 de febrero 2017   \n",
              "6     GABINO M  4  Orizaba   24 de mayo de 2017   \n",
              "7     MALH2001  -  Orizaba  15 de junio de 2017   \n",
              "\n",
              "                                                      \n",
              "3  El lugar es genial para comer hasta que te dej...  \n",
              "4  Limpio y bien diseñado. Bebidas y maravillosa ...  \n",
              "5  Muy buen restaurante de carnes, no dude en ped...  \n",
              "6  Este es un lugar donde se puede comer los taco...  \n",
              "7  La comida era deliciosa, me comí una hamburgue...  "
            ],
            "text/html": [
              "\n",
              "  <div id=\"df-254aed42-b4ef-45a0-a6ee-ffdef9c74bf6\">\n",
              "    <div class=\"colab-df-container\">\n",
              "      <div>\n",
              "<style scoped>\n",
              "    .dataframe tbody tr th:only-of-type {\n",
              "        vertical-align: middle;\n",
              "    }\n",
              "\n",
              "    .dataframe tbody tr th {\n",
              "        vertical-align: top;\n",
              "    }\n",
              "\n",
              "    .dataframe thead th {\n",
              "        text-align: right;\n",
              "    }\n",
              "</style>\n",
              "<table border=\"1\" class=\"dataframe\">\n",
              "  <thead>\n",
              "    <tr style=\"text-align: right;\">\n",
              "      <th></th>\n",
              "      <th></th>\n",
              "      <th></th>\n",
              "      <th></th>\n",
              "      <th></th>\n",
              "      <th></th>\n",
              "    </tr>\n",
              "  </thead>\n",
              "  <tbody>\n",
              "    <tr>\n",
              "      <th>3</th>\n",
              "      <td>Cipriano N</td>\n",
              "      <td>2</td>\n",
              "      <td>Orizaba</td>\n",
              "      <td>23 de marzo de 2016</td>\n",
              "      <td>El lugar es genial para comer hasta que te dej...</td>\n",
              "    </tr>\n",
              "    <tr>\n",
              "      <th>4</th>\n",
              "      <td>Oaxacalife</td>\n",
              "      <td>3</td>\n",
              "      <td>Orizaba</td>\n",
              "      <td>5 de junio de 2016</td>\n",
              "      <td>Limpio y bien diseñado. Bebidas y maravillosa ...</td>\n",
              "    </tr>\n",
              "    <tr>\n",
              "      <th>5</th>\n",
              "      <td>AugustoLara</td>\n",
              "      <td>2</td>\n",
              "      <td>Orizaba</td>\n",
              "      <td>3 de febrero 2017</td>\n",
              "      <td>Muy buen restaurante de carnes, no dude en ped...</td>\n",
              "    </tr>\n",
              "    <tr>\n",
              "      <th>6</th>\n",
              "      <td>GABINO M</td>\n",
              "      <td>4</td>\n",
              "      <td>Orizaba</td>\n",
              "      <td>24 de mayo de 2017</td>\n",
              "      <td>Este es un lugar donde se puede comer los taco...</td>\n",
              "    </tr>\n",
              "    <tr>\n",
              "      <th>7</th>\n",
              "      <td>MALH2001</td>\n",
              "      <td>-</td>\n",
              "      <td>Orizaba</td>\n",
              "      <td>15 de junio de 2017</td>\n",
              "      <td>La comida era deliciosa, me comí una hamburgue...</td>\n",
              "    </tr>\n",
              "  </tbody>\n",
              "</table>\n",
              "</div>\n",
              "      <button class=\"colab-df-convert\" onclick=\"convertToInteractive('df-254aed42-b4ef-45a0-a6ee-ffdef9c74bf6')\"\n",
              "              title=\"Convert this dataframe to an interactive table.\"\n",
              "              style=\"display:none;\">\n",
              "        \n",
              "  <svg xmlns=\"http://www.w3.org/2000/svg\" height=\"24px\"viewBox=\"0 0 24 24\"\n",
              "       width=\"24px\">\n",
              "    <path d=\"M0 0h24v24H0V0z\" fill=\"none\"/>\n",
              "    <path d=\"M18.56 5.44l.94 2.06.94-2.06 2.06-.94-2.06-.94-.94-2.06-.94 2.06-2.06.94zm-11 1L8.5 8.5l.94-2.06 2.06-.94-2.06-.94L8.5 2.5l-.94 2.06-2.06.94zm10 10l.94 2.06.94-2.06 2.06-.94-2.06-.94-.94-2.06-.94 2.06-2.06.94z\"/><path d=\"M17.41 7.96l-1.37-1.37c-.4-.4-.92-.59-1.43-.59-.52 0-1.04.2-1.43.59L10.3 9.45l-7.72 7.72c-.78.78-.78 2.05 0 2.83L4 21.41c.39.39.9.59 1.41.59.51 0 1.02-.2 1.41-.59l7.78-7.78 2.81-2.81c.8-.78.8-2.07 0-2.86zM5.41 20L4 18.59l7.72-7.72 1.47 1.35L5.41 20z\"/>\n",
              "  </svg>\n",
              "      </button>\n",
              "      \n",
              "  <style>\n",
              "    .colab-df-container {\n",
              "      display:flex;\n",
              "      flex-wrap:wrap;\n",
              "      gap: 12px;\n",
              "    }\n",
              "\n",
              "    .colab-df-convert {\n",
              "      background-color: #E8F0FE;\n",
              "      border: none;\n",
              "      border-radius: 50%;\n",
              "      cursor: pointer;\n",
              "      display: none;\n",
              "      fill: #1967D2;\n",
              "      height: 32px;\n",
              "      padding: 0 0 0 0;\n",
              "      width: 32px;\n",
              "    }\n",
              "\n",
              "    .colab-df-convert:hover {\n",
              "      background-color: #E2EBFA;\n",
              "      box-shadow: 0px 1px 2px rgba(60, 64, 67, 0.3), 0px 1px 3px 1px rgba(60, 64, 67, 0.15);\n",
              "      fill: #174EA6;\n",
              "    }\n",
              "\n",
              "    [theme=dark] .colab-df-convert {\n",
              "      background-color: #3B4455;\n",
              "      fill: #D2E3FC;\n",
              "    }\n",
              "\n",
              "    [theme=dark] .colab-df-convert:hover {\n",
              "      background-color: #434B5C;\n",
              "      box-shadow: 0px 1px 3px 1px rgba(0, 0, 0, 0.15);\n",
              "      filter: drop-shadow(0px 1px 2px rgba(0, 0, 0, 0.3));\n",
              "      fill: #FFFFFF;\n",
              "    }\n",
              "  </style>\n",
              "\n",
              "      <script>\n",
              "        const buttonEl =\n",
              "          document.querySelector('#df-254aed42-b4ef-45a0-a6ee-ffdef9c74bf6 button.colab-df-convert');\n",
              "        buttonEl.style.display =\n",
              "          google.colab.kernel.accessAllowed ? 'block' : 'none';\n",
              "\n",
              "        async function convertToInteractive(key) {\n",
              "          const element = document.querySelector('#df-254aed42-b4ef-45a0-a6ee-ffdef9c74bf6');\n",
              "          const dataTable =\n",
              "            await google.colab.kernel.invokeFunction('convertToInteractive',\n",
              "                                                     [key], {});\n",
              "          if (!dataTable) return;\n",
              "\n",
              "          const docLinkHtml = 'Like what you see? Visit the ' +\n",
              "            '<a target=\"_blank\" href=https://colab.research.google.com/notebooks/data_table.ipynb>data table notebook</a>'\n",
              "            + ' to learn more about interactive tables.';\n",
              "          element.innerHTML = '';\n",
              "          dataTable['output_type'] = 'display_data';\n",
              "          await google.colab.output.renderOutput(dataTable, element);\n",
              "          const docLink = document.createElement('div');\n",
              "          docLink.innerHTML = docLinkHtml;\n",
              "          element.appendChild(docLink);\n",
              "        }\n",
              "      </script>\n",
              "    </div>\n",
              "  </div>\n",
              "  "
            ]
          },
          "metadata": {},
          "execution_count": 8
        }
      ],
      "source": [
        "df.columns = [''] * len(df.columns)\n",
        "df.head()"
      ]
    },
    {
      "cell_type": "markdown",
      "id": "127ba19b",
      "metadata": {
        "id": "127ba19b"
      },
      "source": [
        "### Reasignamos los nombres correctos a las columnas"
      ]
    },
    {
      "cell_type": "code",
      "execution_count": 9,
      "id": "5058b396",
      "metadata": {
        "colab": {
          "base_uri": "https://localhost:8080/",
          "height": 206
        },
        "id": "5058b396",
        "outputId": "c4414f0d-2718-406c-f05e-00ae56b91b90"
      },
      "outputs": [
        {
          "output_type": "execute_result",
          "data": {
            "text/plain": [
              "          Name Crítico de nivel     City                 Date  \\\n",
              "3   Cipriano N                2  Orizaba  23 de marzo de 2016   \n",
              "4   Oaxacalife                3  Orizaba   5 de junio de 2016   \n",
              "5  AugustoLara                2  Orizaba    3 de febrero 2017   \n",
              "6     GABINO M                4  Orizaba   24 de mayo de 2017   \n",
              "7     MALH2001                -  Orizaba  15 de junio de 2017   \n",
              "\n",
              "                                             Comment  \n",
              "3  El lugar es genial para comer hasta que te dej...  \n",
              "4  Limpio y bien diseñado. Bebidas y maravillosa ...  \n",
              "5  Muy buen restaurante de carnes, no dude en ped...  \n",
              "6  Este es un lugar donde se puede comer los taco...  \n",
              "7  La comida era deliciosa, me comí una hamburgue...  "
            ],
            "text/html": [
              "\n",
              "  <div id=\"df-59ea24de-788e-4aaa-8f3f-0e6541e33632\">\n",
              "    <div class=\"colab-df-container\">\n",
              "      <div>\n",
              "<style scoped>\n",
              "    .dataframe tbody tr th:only-of-type {\n",
              "        vertical-align: middle;\n",
              "    }\n",
              "\n",
              "    .dataframe tbody tr th {\n",
              "        vertical-align: top;\n",
              "    }\n",
              "\n",
              "    .dataframe thead th {\n",
              "        text-align: right;\n",
              "    }\n",
              "</style>\n",
              "<table border=\"1\" class=\"dataframe\">\n",
              "  <thead>\n",
              "    <tr style=\"text-align: right;\">\n",
              "      <th></th>\n",
              "      <th>Name</th>\n",
              "      <th>Crítico de nivel</th>\n",
              "      <th>City</th>\n",
              "      <th>Date</th>\n",
              "      <th>Comment</th>\n",
              "    </tr>\n",
              "  </thead>\n",
              "  <tbody>\n",
              "    <tr>\n",
              "      <th>3</th>\n",
              "      <td>Cipriano N</td>\n",
              "      <td>2</td>\n",
              "      <td>Orizaba</td>\n",
              "      <td>23 de marzo de 2016</td>\n",
              "      <td>El lugar es genial para comer hasta que te dej...</td>\n",
              "    </tr>\n",
              "    <tr>\n",
              "      <th>4</th>\n",
              "      <td>Oaxacalife</td>\n",
              "      <td>3</td>\n",
              "      <td>Orizaba</td>\n",
              "      <td>5 de junio de 2016</td>\n",
              "      <td>Limpio y bien diseñado. Bebidas y maravillosa ...</td>\n",
              "    </tr>\n",
              "    <tr>\n",
              "      <th>5</th>\n",
              "      <td>AugustoLara</td>\n",
              "      <td>2</td>\n",
              "      <td>Orizaba</td>\n",
              "      <td>3 de febrero 2017</td>\n",
              "      <td>Muy buen restaurante de carnes, no dude en ped...</td>\n",
              "    </tr>\n",
              "    <tr>\n",
              "      <th>6</th>\n",
              "      <td>GABINO M</td>\n",
              "      <td>4</td>\n",
              "      <td>Orizaba</td>\n",
              "      <td>24 de mayo de 2017</td>\n",
              "      <td>Este es un lugar donde se puede comer los taco...</td>\n",
              "    </tr>\n",
              "    <tr>\n",
              "      <th>7</th>\n",
              "      <td>MALH2001</td>\n",
              "      <td>-</td>\n",
              "      <td>Orizaba</td>\n",
              "      <td>15 de junio de 2017</td>\n",
              "      <td>La comida era deliciosa, me comí una hamburgue...</td>\n",
              "    </tr>\n",
              "  </tbody>\n",
              "</table>\n",
              "</div>\n",
              "      <button class=\"colab-df-convert\" onclick=\"convertToInteractive('df-59ea24de-788e-4aaa-8f3f-0e6541e33632')\"\n",
              "              title=\"Convert this dataframe to an interactive table.\"\n",
              "              style=\"display:none;\">\n",
              "        \n",
              "  <svg xmlns=\"http://www.w3.org/2000/svg\" height=\"24px\"viewBox=\"0 0 24 24\"\n",
              "       width=\"24px\">\n",
              "    <path d=\"M0 0h24v24H0V0z\" fill=\"none\"/>\n",
              "    <path d=\"M18.56 5.44l.94 2.06.94-2.06 2.06-.94-2.06-.94-.94-2.06-.94 2.06-2.06.94zm-11 1L8.5 8.5l.94-2.06 2.06-.94-2.06-.94L8.5 2.5l-.94 2.06-2.06.94zm10 10l.94 2.06.94-2.06 2.06-.94-2.06-.94-.94-2.06-.94 2.06-2.06.94z\"/><path d=\"M17.41 7.96l-1.37-1.37c-.4-.4-.92-.59-1.43-.59-.52 0-1.04.2-1.43.59L10.3 9.45l-7.72 7.72c-.78.78-.78 2.05 0 2.83L4 21.41c.39.39.9.59 1.41.59.51 0 1.02-.2 1.41-.59l7.78-7.78 2.81-2.81c.8-.78.8-2.07 0-2.86zM5.41 20L4 18.59l7.72-7.72 1.47 1.35L5.41 20z\"/>\n",
              "  </svg>\n",
              "      </button>\n",
              "      \n",
              "  <style>\n",
              "    .colab-df-container {\n",
              "      display:flex;\n",
              "      flex-wrap:wrap;\n",
              "      gap: 12px;\n",
              "    }\n",
              "\n",
              "    .colab-df-convert {\n",
              "      background-color: #E8F0FE;\n",
              "      border: none;\n",
              "      border-radius: 50%;\n",
              "      cursor: pointer;\n",
              "      display: none;\n",
              "      fill: #1967D2;\n",
              "      height: 32px;\n",
              "      padding: 0 0 0 0;\n",
              "      width: 32px;\n",
              "    }\n",
              "\n",
              "    .colab-df-convert:hover {\n",
              "      background-color: #E2EBFA;\n",
              "      box-shadow: 0px 1px 2px rgba(60, 64, 67, 0.3), 0px 1px 3px 1px rgba(60, 64, 67, 0.15);\n",
              "      fill: #174EA6;\n",
              "    }\n",
              "\n",
              "    [theme=dark] .colab-df-convert {\n",
              "      background-color: #3B4455;\n",
              "      fill: #D2E3FC;\n",
              "    }\n",
              "\n",
              "    [theme=dark] .colab-df-convert:hover {\n",
              "      background-color: #434B5C;\n",
              "      box-shadow: 0px 1px 3px 1px rgba(0, 0, 0, 0.15);\n",
              "      filter: drop-shadow(0px 1px 2px rgba(0, 0, 0, 0.3));\n",
              "      fill: #FFFFFF;\n",
              "    }\n",
              "  </style>\n",
              "\n",
              "      <script>\n",
              "        const buttonEl =\n",
              "          document.querySelector('#df-59ea24de-788e-4aaa-8f3f-0e6541e33632 button.colab-df-convert');\n",
              "        buttonEl.style.display =\n",
              "          google.colab.kernel.accessAllowed ? 'block' : 'none';\n",
              "\n",
              "        async function convertToInteractive(key) {\n",
              "          const element = document.querySelector('#df-59ea24de-788e-4aaa-8f3f-0e6541e33632');\n",
              "          const dataTable =\n",
              "            await google.colab.kernel.invokeFunction('convertToInteractive',\n",
              "                                                     [key], {});\n",
              "          if (!dataTable) return;\n",
              "\n",
              "          const docLinkHtml = 'Like what you see? Visit the ' +\n",
              "            '<a target=\"_blank\" href=https://colab.research.google.com/notebooks/data_table.ipynb>data table notebook</a>'\n",
              "            + ' to learn more about interactive tables.';\n",
              "          element.innerHTML = '';\n",
              "          dataTable['output_type'] = 'display_data';\n",
              "          await google.colab.output.renderOutput(dataTable, element);\n",
              "          const docLink = document.createElement('div');\n",
              "          docLink.innerHTML = docLinkHtml;\n",
              "          element.appendChild(docLink);\n",
              "        }\n",
              "      </script>\n",
              "    </div>\n",
              "  </div>\n",
              "  "
            ]
          },
          "metadata": {},
          "execution_count": 9
        }
      ],
      "source": [
        "df.columns = columnas\n",
        "df.rename(columns = {'Name (click to view profile)':'Name'}, inplace = True)\n",
        "df.head()"
      ]
    },
    {
      "cell_type": "markdown",
      "id": "e4bb9aa9",
      "metadata": {
        "id": "e4bb9aa9"
      },
      "source": [
        "### Por ultimo, reseteamos el indice del dataframe"
      ]
    },
    {
      "cell_type": "code",
      "execution_count": 10,
      "id": "43fd0f62",
      "metadata": {
        "scrolled": true,
        "colab": {
          "base_uri": "https://localhost:8080/",
          "height": 424
        },
        "id": "43fd0f62",
        "outputId": "6131321c-9358-4dbc-b6d8-62063c74e817"
      },
      "outputs": [
        {
          "output_type": "execute_result",
          "data": {
            "text/plain": [
              "            Name Crítico de nivel     City                     Date  \\\n",
              "0     Cipriano N                2  Orizaba      23 de marzo de 2016   \n",
              "1     Oaxacalife                3  Orizaba       5 de junio de 2016   \n",
              "2    AugustoLara                2  Orizaba        3 de febrero 2017   \n",
              "3       GABINO M                4  Orizaba       24 de mayo de 2017   \n",
              "4       MALH2001                -  Orizaba      15 de junio de 2017   \n",
              "..           ...              ...      ...                      ...   \n",
              "150   NormanT708                4  Orizaba  29 de diciembre de 2019   \n",
              "151   cortegas72                4  Orizaba  16 de diciembre de 2020   \n",
              "152      Pablo R                3  Orizaba      24 de enero de 2016   \n",
              "153    Xavigrand                4  Orizaba      18 de julio de 2018   \n",
              "154    claudioje                6  Orizaba   3 de noviembre de 2015   \n",
              "\n",
              "                                               Comment  \n",
              "0    El lugar es genial para comer hasta que te dej...  \n",
              "1    Limpio y bien diseñado. Bebidas y maravillosa ...  \n",
              "2    Muy buen restaurante de carnes, no dude en ped...  \n",
              "3    Este es un lugar donde se puede comer los taco...  \n",
              "4    La comida era deliciosa, me comí una hamburgue...  \n",
              "..                                                 ...  \n",
              "150  I had previously reviewed other Madison grill ...  \n",
              "151  Great restaurant to have a pleasant time with ...  \n",
              "152  Das Restaurant ist sehr schön an einem Platz g...  \n",
              "153  Si vous êtes un fana de viandes, ce restaurant...  \n",
              "154  entrato quasi per sbaglio, sono stato favorevo...  \n",
              "\n",
              "[155 rows x 5 columns]"
            ],
            "text/html": [
              "\n",
              "  <div id=\"df-52ff81a4-1fca-4453-a2f3-94a9a53dc0ff\">\n",
              "    <div class=\"colab-df-container\">\n",
              "      <div>\n",
              "<style scoped>\n",
              "    .dataframe tbody tr th:only-of-type {\n",
              "        vertical-align: middle;\n",
              "    }\n",
              "\n",
              "    .dataframe tbody tr th {\n",
              "        vertical-align: top;\n",
              "    }\n",
              "\n",
              "    .dataframe thead th {\n",
              "        text-align: right;\n",
              "    }\n",
              "</style>\n",
              "<table border=\"1\" class=\"dataframe\">\n",
              "  <thead>\n",
              "    <tr style=\"text-align: right;\">\n",
              "      <th></th>\n",
              "      <th>Name</th>\n",
              "      <th>Crítico de nivel</th>\n",
              "      <th>City</th>\n",
              "      <th>Date</th>\n",
              "      <th>Comment</th>\n",
              "    </tr>\n",
              "  </thead>\n",
              "  <tbody>\n",
              "    <tr>\n",
              "      <th>0</th>\n",
              "      <td>Cipriano N</td>\n",
              "      <td>2</td>\n",
              "      <td>Orizaba</td>\n",
              "      <td>23 de marzo de 2016</td>\n",
              "      <td>El lugar es genial para comer hasta que te dej...</td>\n",
              "    </tr>\n",
              "    <tr>\n",
              "      <th>1</th>\n",
              "      <td>Oaxacalife</td>\n",
              "      <td>3</td>\n",
              "      <td>Orizaba</td>\n",
              "      <td>5 de junio de 2016</td>\n",
              "      <td>Limpio y bien diseñado. Bebidas y maravillosa ...</td>\n",
              "    </tr>\n",
              "    <tr>\n",
              "      <th>2</th>\n",
              "      <td>AugustoLara</td>\n",
              "      <td>2</td>\n",
              "      <td>Orizaba</td>\n",
              "      <td>3 de febrero 2017</td>\n",
              "      <td>Muy buen restaurante de carnes, no dude en ped...</td>\n",
              "    </tr>\n",
              "    <tr>\n",
              "      <th>3</th>\n",
              "      <td>GABINO M</td>\n",
              "      <td>4</td>\n",
              "      <td>Orizaba</td>\n",
              "      <td>24 de mayo de 2017</td>\n",
              "      <td>Este es un lugar donde se puede comer los taco...</td>\n",
              "    </tr>\n",
              "    <tr>\n",
              "      <th>4</th>\n",
              "      <td>MALH2001</td>\n",
              "      <td>-</td>\n",
              "      <td>Orizaba</td>\n",
              "      <td>15 de junio de 2017</td>\n",
              "      <td>La comida era deliciosa, me comí una hamburgue...</td>\n",
              "    </tr>\n",
              "    <tr>\n",
              "      <th>...</th>\n",
              "      <td>...</td>\n",
              "      <td>...</td>\n",
              "      <td>...</td>\n",
              "      <td>...</td>\n",
              "      <td>...</td>\n",
              "    </tr>\n",
              "    <tr>\n",
              "      <th>150</th>\n",
              "      <td>NormanT708</td>\n",
              "      <td>4</td>\n",
              "      <td>Orizaba</td>\n",
              "      <td>29 de diciembre de 2019</td>\n",
              "      <td>I had previously reviewed other Madison grill ...</td>\n",
              "    </tr>\n",
              "    <tr>\n",
              "      <th>151</th>\n",
              "      <td>cortegas72</td>\n",
              "      <td>4</td>\n",
              "      <td>Orizaba</td>\n",
              "      <td>16 de diciembre de 2020</td>\n",
              "      <td>Great restaurant to have a pleasant time with ...</td>\n",
              "    </tr>\n",
              "    <tr>\n",
              "      <th>152</th>\n",
              "      <td>Pablo R</td>\n",
              "      <td>3</td>\n",
              "      <td>Orizaba</td>\n",
              "      <td>24 de enero de 2016</td>\n",
              "      <td>Das Restaurant ist sehr schön an einem Platz g...</td>\n",
              "    </tr>\n",
              "    <tr>\n",
              "      <th>153</th>\n",
              "      <td>Xavigrand</td>\n",
              "      <td>4</td>\n",
              "      <td>Orizaba</td>\n",
              "      <td>18 de julio de 2018</td>\n",
              "      <td>Si vous êtes un fana de viandes, ce restaurant...</td>\n",
              "    </tr>\n",
              "    <tr>\n",
              "      <th>154</th>\n",
              "      <td>claudioje</td>\n",
              "      <td>6</td>\n",
              "      <td>Orizaba</td>\n",
              "      <td>3 de noviembre de 2015</td>\n",
              "      <td>entrato quasi per sbaglio, sono stato favorevo...</td>\n",
              "    </tr>\n",
              "  </tbody>\n",
              "</table>\n",
              "<p>155 rows × 5 columns</p>\n",
              "</div>\n",
              "      <button class=\"colab-df-convert\" onclick=\"convertToInteractive('df-52ff81a4-1fca-4453-a2f3-94a9a53dc0ff')\"\n",
              "              title=\"Convert this dataframe to an interactive table.\"\n",
              "              style=\"display:none;\">\n",
              "        \n",
              "  <svg xmlns=\"http://www.w3.org/2000/svg\" height=\"24px\"viewBox=\"0 0 24 24\"\n",
              "       width=\"24px\">\n",
              "    <path d=\"M0 0h24v24H0V0z\" fill=\"none\"/>\n",
              "    <path d=\"M18.56 5.44l.94 2.06.94-2.06 2.06-.94-2.06-.94-.94-2.06-.94 2.06-2.06.94zm-11 1L8.5 8.5l.94-2.06 2.06-.94-2.06-.94L8.5 2.5l-.94 2.06-2.06.94zm10 10l.94 2.06.94-2.06 2.06-.94-2.06-.94-.94-2.06-.94 2.06-2.06.94z\"/><path d=\"M17.41 7.96l-1.37-1.37c-.4-.4-.92-.59-1.43-.59-.52 0-1.04.2-1.43.59L10.3 9.45l-7.72 7.72c-.78.78-.78 2.05 0 2.83L4 21.41c.39.39.9.59 1.41.59.51 0 1.02-.2 1.41-.59l7.78-7.78 2.81-2.81c.8-.78.8-2.07 0-2.86zM5.41 20L4 18.59l7.72-7.72 1.47 1.35L5.41 20z\"/>\n",
              "  </svg>\n",
              "      </button>\n",
              "      \n",
              "  <style>\n",
              "    .colab-df-container {\n",
              "      display:flex;\n",
              "      flex-wrap:wrap;\n",
              "      gap: 12px;\n",
              "    }\n",
              "\n",
              "    .colab-df-convert {\n",
              "      background-color: #E8F0FE;\n",
              "      border: none;\n",
              "      border-radius: 50%;\n",
              "      cursor: pointer;\n",
              "      display: none;\n",
              "      fill: #1967D2;\n",
              "      height: 32px;\n",
              "      padding: 0 0 0 0;\n",
              "      width: 32px;\n",
              "    }\n",
              "\n",
              "    .colab-df-convert:hover {\n",
              "      background-color: #E2EBFA;\n",
              "      box-shadow: 0px 1px 2px rgba(60, 64, 67, 0.3), 0px 1px 3px 1px rgba(60, 64, 67, 0.15);\n",
              "      fill: #174EA6;\n",
              "    }\n",
              "\n",
              "    [theme=dark] .colab-df-convert {\n",
              "      background-color: #3B4455;\n",
              "      fill: #D2E3FC;\n",
              "    }\n",
              "\n",
              "    [theme=dark] .colab-df-convert:hover {\n",
              "      background-color: #434B5C;\n",
              "      box-shadow: 0px 1px 3px 1px rgba(0, 0, 0, 0.15);\n",
              "      filter: drop-shadow(0px 1px 2px rgba(0, 0, 0, 0.3));\n",
              "      fill: #FFFFFF;\n",
              "    }\n",
              "  </style>\n",
              "\n",
              "      <script>\n",
              "        const buttonEl =\n",
              "          document.querySelector('#df-52ff81a4-1fca-4453-a2f3-94a9a53dc0ff button.colab-df-convert');\n",
              "        buttonEl.style.display =\n",
              "          google.colab.kernel.accessAllowed ? 'block' : 'none';\n",
              "\n",
              "        async function convertToInteractive(key) {\n",
              "          const element = document.querySelector('#df-52ff81a4-1fca-4453-a2f3-94a9a53dc0ff');\n",
              "          const dataTable =\n",
              "            await google.colab.kernel.invokeFunction('convertToInteractive',\n",
              "                                                     [key], {});\n",
              "          if (!dataTable) return;\n",
              "\n",
              "          const docLinkHtml = 'Like what you see? Visit the ' +\n",
              "            '<a target=\"_blank\" href=https://colab.research.google.com/notebooks/data_table.ipynb>data table notebook</a>'\n",
              "            + ' to learn more about interactive tables.';\n",
              "          element.innerHTML = '';\n",
              "          dataTable['output_type'] = 'display_data';\n",
              "          await google.colab.output.renderOutput(dataTable, element);\n",
              "          const docLink = document.createElement('div');\n",
              "          docLink.innerHTML = docLinkHtml;\n",
              "          element.appendChild(docLink);\n",
              "        }\n",
              "      </script>\n",
              "    </div>\n",
              "  </div>\n",
              "  "
            ]
          },
          "metadata": {},
          "execution_count": 10
        }
      ],
      "source": [
        "df.reset_index(inplace = True)\n",
        "df.drop(columns = ['index'], axis=1, inplace=True)\n",
        "df"
      ]
    },
    {
      "cell_type": "code",
      "execution_count": null,
      "id": "d2da51aa",
      "metadata": {
        "id": "d2da51aa"
      },
      "outputs": [],
      "source": [
        "#df.to_csv('Datasets - Comments - cleaned.csv', encoding = 'utf-16')"
      ]
    },
    {
      "cell_type": "code",
      "execution_count": null,
      "id": "cbec36c2",
      "metadata": {
        "id": "cbec36c2"
      },
      "outputs": [],
      "source": [
        "#df.to_csv('Datasets - Comments - cleaned2.csv')"
      ]
    },
    {
      "cell_type": "markdown",
      "id": "0896b779",
      "metadata": {
        "id": "0896b779"
      },
      "source": [
        "# NLP"
      ]
    },
    {
      "cell_type": "markdown",
      "id": "804294f2",
      "metadata": {
        "id": "804294f2"
      },
      "source": [
        "### Creamos un nueva columna en el dataframe que indica el idioma del comentario"
      ]
    },
    {
      "cell_type": "code",
      "execution_count": 11,
      "id": "78ca0423",
      "metadata": {
        "id": "78ca0423"
      },
      "outputs": [],
      "source": [
        "DetectorFactory.seed = 0\n",
        "Language = []\n",
        "for c in df['Comment']:\n",
        "    Language.append(languages.get(alpha2 = detect(c)).name.lower())"
      ]
    },
    {
      "cell_type": "code",
      "execution_count": 12,
      "id": "3ab9fb49",
      "metadata": {
        "colab": {
          "base_uri": "https://localhost:8080/",
          "height": 424
        },
        "id": "3ab9fb49",
        "outputId": "07acf8f1-1377-4815-d7d7-5de11b1a6662"
      },
      "outputs": [
        {
          "output_type": "execute_result",
          "data": {
            "text/plain": [
              "            Name Crítico de nivel     City                     Date  \\\n",
              "0     Cipriano N                2  Orizaba      23 de marzo de 2016   \n",
              "1     Oaxacalife                3  Orizaba       5 de junio de 2016   \n",
              "2    AugustoLara                2  Orizaba        3 de febrero 2017   \n",
              "3       GABINO M                4  Orizaba       24 de mayo de 2017   \n",
              "4       MALH2001                -  Orizaba      15 de junio de 2017   \n",
              "..           ...              ...      ...                      ...   \n",
              "150   NormanT708                4  Orizaba  29 de diciembre de 2019   \n",
              "151   cortegas72                4  Orizaba  16 de diciembre de 2020   \n",
              "152      Pablo R                3  Orizaba      24 de enero de 2016   \n",
              "153    Xavigrand                4  Orizaba      18 de julio de 2018   \n",
              "154    claudioje                6  Orizaba   3 de noviembre de 2015   \n",
              "\n",
              "                                               Comment Language  \n",
              "0    El lugar es genial para comer hasta que te dej...  spanish  \n",
              "1    Limpio y bien diseñado. Bebidas y maravillosa ...  spanish  \n",
              "2    Muy buen restaurante de carnes, no dude en ped...  spanish  \n",
              "3    Este es un lugar donde se puede comer los taco...  spanish  \n",
              "4    La comida era deliciosa, me comí una hamburgue...  spanish  \n",
              "..                                                 ...      ...  \n",
              "150  I had previously reviewed other Madison grill ...  english  \n",
              "151  Great restaurant to have a pleasant time with ...  english  \n",
              "152  Das Restaurant ist sehr schön an einem Platz g...   german  \n",
              "153  Si vous êtes un fana de viandes, ce restaurant...   french  \n",
              "154  entrato quasi per sbaglio, sono stato favorevo...  italian  \n",
              "\n",
              "[155 rows x 6 columns]"
            ],
            "text/html": [
              "\n",
              "  <div id=\"df-b2e57e82-ed51-4ee9-a93f-c575b20ce9f6\">\n",
              "    <div class=\"colab-df-container\">\n",
              "      <div>\n",
              "<style scoped>\n",
              "    .dataframe tbody tr th:only-of-type {\n",
              "        vertical-align: middle;\n",
              "    }\n",
              "\n",
              "    .dataframe tbody tr th {\n",
              "        vertical-align: top;\n",
              "    }\n",
              "\n",
              "    .dataframe thead th {\n",
              "        text-align: right;\n",
              "    }\n",
              "</style>\n",
              "<table border=\"1\" class=\"dataframe\">\n",
              "  <thead>\n",
              "    <tr style=\"text-align: right;\">\n",
              "      <th></th>\n",
              "      <th>Name</th>\n",
              "      <th>Crítico de nivel</th>\n",
              "      <th>City</th>\n",
              "      <th>Date</th>\n",
              "      <th>Comment</th>\n",
              "      <th>Language</th>\n",
              "    </tr>\n",
              "  </thead>\n",
              "  <tbody>\n",
              "    <tr>\n",
              "      <th>0</th>\n",
              "      <td>Cipriano N</td>\n",
              "      <td>2</td>\n",
              "      <td>Orizaba</td>\n",
              "      <td>23 de marzo de 2016</td>\n",
              "      <td>El lugar es genial para comer hasta que te dej...</td>\n",
              "      <td>spanish</td>\n",
              "    </tr>\n",
              "    <tr>\n",
              "      <th>1</th>\n",
              "      <td>Oaxacalife</td>\n",
              "      <td>3</td>\n",
              "      <td>Orizaba</td>\n",
              "      <td>5 de junio de 2016</td>\n",
              "      <td>Limpio y bien diseñado. Bebidas y maravillosa ...</td>\n",
              "      <td>spanish</td>\n",
              "    </tr>\n",
              "    <tr>\n",
              "      <th>2</th>\n",
              "      <td>AugustoLara</td>\n",
              "      <td>2</td>\n",
              "      <td>Orizaba</td>\n",
              "      <td>3 de febrero 2017</td>\n",
              "      <td>Muy buen restaurante de carnes, no dude en ped...</td>\n",
              "      <td>spanish</td>\n",
              "    </tr>\n",
              "    <tr>\n",
              "      <th>3</th>\n",
              "      <td>GABINO M</td>\n",
              "      <td>4</td>\n",
              "      <td>Orizaba</td>\n",
              "      <td>24 de mayo de 2017</td>\n",
              "      <td>Este es un lugar donde se puede comer los taco...</td>\n",
              "      <td>spanish</td>\n",
              "    </tr>\n",
              "    <tr>\n",
              "      <th>4</th>\n",
              "      <td>MALH2001</td>\n",
              "      <td>-</td>\n",
              "      <td>Orizaba</td>\n",
              "      <td>15 de junio de 2017</td>\n",
              "      <td>La comida era deliciosa, me comí una hamburgue...</td>\n",
              "      <td>spanish</td>\n",
              "    </tr>\n",
              "    <tr>\n",
              "      <th>...</th>\n",
              "      <td>...</td>\n",
              "      <td>...</td>\n",
              "      <td>...</td>\n",
              "      <td>...</td>\n",
              "      <td>...</td>\n",
              "      <td>...</td>\n",
              "    </tr>\n",
              "    <tr>\n",
              "      <th>150</th>\n",
              "      <td>NormanT708</td>\n",
              "      <td>4</td>\n",
              "      <td>Orizaba</td>\n",
              "      <td>29 de diciembre de 2019</td>\n",
              "      <td>I had previously reviewed other Madison grill ...</td>\n",
              "      <td>english</td>\n",
              "    </tr>\n",
              "    <tr>\n",
              "      <th>151</th>\n",
              "      <td>cortegas72</td>\n",
              "      <td>4</td>\n",
              "      <td>Orizaba</td>\n",
              "      <td>16 de diciembre de 2020</td>\n",
              "      <td>Great restaurant to have a pleasant time with ...</td>\n",
              "      <td>english</td>\n",
              "    </tr>\n",
              "    <tr>\n",
              "      <th>152</th>\n",
              "      <td>Pablo R</td>\n",
              "      <td>3</td>\n",
              "      <td>Orizaba</td>\n",
              "      <td>24 de enero de 2016</td>\n",
              "      <td>Das Restaurant ist sehr schön an einem Platz g...</td>\n",
              "      <td>german</td>\n",
              "    </tr>\n",
              "    <tr>\n",
              "      <th>153</th>\n",
              "      <td>Xavigrand</td>\n",
              "      <td>4</td>\n",
              "      <td>Orizaba</td>\n",
              "      <td>18 de julio de 2018</td>\n",
              "      <td>Si vous êtes un fana de viandes, ce restaurant...</td>\n",
              "      <td>french</td>\n",
              "    </tr>\n",
              "    <tr>\n",
              "      <th>154</th>\n",
              "      <td>claudioje</td>\n",
              "      <td>6</td>\n",
              "      <td>Orizaba</td>\n",
              "      <td>3 de noviembre de 2015</td>\n",
              "      <td>entrato quasi per sbaglio, sono stato favorevo...</td>\n",
              "      <td>italian</td>\n",
              "    </tr>\n",
              "  </tbody>\n",
              "</table>\n",
              "<p>155 rows × 6 columns</p>\n",
              "</div>\n",
              "      <button class=\"colab-df-convert\" onclick=\"convertToInteractive('df-b2e57e82-ed51-4ee9-a93f-c575b20ce9f6')\"\n",
              "              title=\"Convert this dataframe to an interactive table.\"\n",
              "              style=\"display:none;\">\n",
              "        \n",
              "  <svg xmlns=\"http://www.w3.org/2000/svg\" height=\"24px\"viewBox=\"0 0 24 24\"\n",
              "       width=\"24px\">\n",
              "    <path d=\"M0 0h24v24H0V0z\" fill=\"none\"/>\n",
              "    <path d=\"M18.56 5.44l.94 2.06.94-2.06 2.06-.94-2.06-.94-.94-2.06-.94 2.06-2.06.94zm-11 1L8.5 8.5l.94-2.06 2.06-.94-2.06-.94L8.5 2.5l-.94 2.06-2.06.94zm10 10l.94 2.06.94-2.06 2.06-.94-2.06-.94-.94-2.06-.94 2.06-2.06.94z\"/><path d=\"M17.41 7.96l-1.37-1.37c-.4-.4-.92-.59-1.43-.59-.52 0-1.04.2-1.43.59L10.3 9.45l-7.72 7.72c-.78.78-.78 2.05 0 2.83L4 21.41c.39.39.9.59 1.41.59.51 0 1.02-.2 1.41-.59l7.78-7.78 2.81-2.81c.8-.78.8-2.07 0-2.86zM5.41 20L4 18.59l7.72-7.72 1.47 1.35L5.41 20z\"/>\n",
              "  </svg>\n",
              "      </button>\n",
              "      \n",
              "  <style>\n",
              "    .colab-df-container {\n",
              "      display:flex;\n",
              "      flex-wrap:wrap;\n",
              "      gap: 12px;\n",
              "    }\n",
              "\n",
              "    .colab-df-convert {\n",
              "      background-color: #E8F0FE;\n",
              "      border: none;\n",
              "      border-radius: 50%;\n",
              "      cursor: pointer;\n",
              "      display: none;\n",
              "      fill: #1967D2;\n",
              "      height: 32px;\n",
              "      padding: 0 0 0 0;\n",
              "      width: 32px;\n",
              "    }\n",
              "\n",
              "    .colab-df-convert:hover {\n",
              "      background-color: #E2EBFA;\n",
              "      box-shadow: 0px 1px 2px rgba(60, 64, 67, 0.3), 0px 1px 3px 1px rgba(60, 64, 67, 0.15);\n",
              "      fill: #174EA6;\n",
              "    }\n",
              "\n",
              "    [theme=dark] .colab-df-convert {\n",
              "      background-color: #3B4455;\n",
              "      fill: #D2E3FC;\n",
              "    }\n",
              "\n",
              "    [theme=dark] .colab-df-convert:hover {\n",
              "      background-color: #434B5C;\n",
              "      box-shadow: 0px 1px 3px 1px rgba(0, 0, 0, 0.15);\n",
              "      filter: drop-shadow(0px 1px 2px rgba(0, 0, 0, 0.3));\n",
              "      fill: #FFFFFF;\n",
              "    }\n",
              "  </style>\n",
              "\n",
              "      <script>\n",
              "        const buttonEl =\n",
              "          document.querySelector('#df-b2e57e82-ed51-4ee9-a93f-c575b20ce9f6 button.colab-df-convert');\n",
              "        buttonEl.style.display =\n",
              "          google.colab.kernel.accessAllowed ? 'block' : 'none';\n",
              "\n",
              "        async function convertToInteractive(key) {\n",
              "          const element = document.querySelector('#df-b2e57e82-ed51-4ee9-a93f-c575b20ce9f6');\n",
              "          const dataTable =\n",
              "            await google.colab.kernel.invokeFunction('convertToInteractive',\n",
              "                                                     [key], {});\n",
              "          if (!dataTable) return;\n",
              "\n",
              "          const docLinkHtml = 'Like what you see? Visit the ' +\n",
              "            '<a target=\"_blank\" href=https://colab.research.google.com/notebooks/data_table.ipynb>data table notebook</a>'\n",
              "            + ' to learn more about interactive tables.';\n",
              "          element.innerHTML = '';\n",
              "          dataTable['output_type'] = 'display_data';\n",
              "          await google.colab.output.renderOutput(dataTable, element);\n",
              "          const docLink = document.createElement('div');\n",
              "          docLink.innerHTML = docLinkHtml;\n",
              "          element.appendChild(docLink);\n",
              "        }\n",
              "      </script>\n",
              "    </div>\n",
              "  </div>\n",
              "  "
            ]
          },
          "metadata": {},
          "execution_count": 12
        }
      ],
      "source": [
        "df['Language'] = Language\n",
        "df"
      ]
    },
    {
      "cell_type": "markdown",
      "id": "dfdb2d01",
      "metadata": {
        "id": "dfdb2d01"
      },
      "source": [
        "### Mostramos todos los idiomas en los que estan escritos los comentarios"
      ]
    },
    {
      "cell_type": "code",
      "execution_count": 13,
      "id": "2fe0124b",
      "metadata": {
        "colab": {
          "base_uri": "https://localhost:8080/"
        },
        "id": "2fe0124b",
        "outputId": "2fef9353-3133-4f1a-e5ec-be263d4baaf0"
      },
      "outputs": [
        {
          "output_type": "execute_result",
          "data": {
            "text/plain": [
              "array(['spanish', 'swedish', 'english', 'german', 'french', 'italian'],\n",
              "      dtype=object)"
            ]
          },
          "metadata": {},
          "execution_count": 13
        }
      ],
      "source": [
        "unique_values_language = df['Language'].unique()\n",
        "unique_values_language"
      ]
    },
    {
      "cell_type": "markdown",
      "id": "105bace6",
      "metadata": {
        "id": "105bace6"
      },
      "source": [
        "### Para no repetir las stopwords 155 veces, hacemos un diccionario con los valores unicos"
      ]
    },
    {
      "cell_type": "code",
      "execution_count": 14,
      "id": "0fd7a702",
      "metadata": {
        "id": "0fd7a702"
      },
      "outputs": [],
      "source": [
        "language_stopwords = {}\n",
        "for L in unique_values_language:\n",
        "    language_stopwords[L] = set(stopwords.words(L))"
      ]
    },
    {
      "cell_type": "markdown",
      "id": "9379305c",
      "metadata": {
        "id": "9379305c"
      },
      "source": [
        "### Encontramos un comentario particular, este puede causar ruido en un futuro"
      ]
    },
    {
      "cell_type": "code",
      "execution_count": 15,
      "id": "65e0324f",
      "metadata": {
        "colab": {
          "base_uri": "https://localhost:8080/"
        },
        "id": "65e0324f",
        "outputId": "f09fe34d-e2b2-4d07-d0a4-38a90f7b0e4f"
      },
      "outputs": [
        {
          "output_type": "execute_result",
          "data": {
            "text/plain": [
              "86    Bueno es un medio buen restaurantehrjrnrngncnñ...\n",
              "Name: Comment, dtype: object"
            ]
          },
          "metadata": {},
          "execution_count": 15
        }
      ],
      "source": [
        "indice = df.Language[df.Language == 'swedish'].index.tolist()\n",
        "comentario1 = df['Comment'][indice]\n",
        "comentario1"
      ]
    },
    {
      "cell_type": "markdown",
      "id": "f1506015",
      "metadata": {
        "id": "f1506015"
      },
      "source": [
        "### C/u de los comentarios son tokenizados. Ademas se quitan mayusculas, signos de puntuacion, stopwords, emojis y numeros"
      ]
    },
    {
      "cell_type": "code",
      "execution_count": 16,
      "id": "5abb6d16",
      "metadata": {
        "id": "5abb6d16"
      },
      "outputs": [],
      "source": [
        "vector_comments_tokenized = []\n",
        "for i in range(len(df)):\n",
        "    comment = df['Comment'][i].lower()    #ponemos en minusculas el comentario\n",
        "    tokenizer = nltk.RegexpTokenizer(r\"\\w+\")\n",
        "    comment = tokenizer.tokenize(comment.lower()) #eliminamos signos de puntuacion\n",
        "    comment = ' '.join(comment)    #el vector resultante lo hacemos string de nuevo\n",
        "\n",
        "    words_tokenized = word_tokenize(comment)\n",
        "    stop_words = language_stopwords[df['Language'][i]] #Al diccionario que hicimos le indicamos el idioma y nos da las stopwords\n",
        "    \n",
        "    filtered_sentence = [w for w in words_tokenized if not w in stop_words] #Filtramnos y obtenemos el comentario tokenizado\n",
        "    filtered_sentence = ([i for i in filtered_sentence if not i.isdigit()]) #Quitamos numeros\n",
        "    vector_comments_tokenized.append(filtered_sentence) #Se repite para todos los comentarios, por eso se guardan en un vector"
      ]
    },
    {
      "cell_type": "markdown",
      "id": "ee9d9f7f",
      "metadata": {
        "id": "ee9d9f7f"
      },
      "source": [
        "### Verificamos que funcione"
      ]
    },
    {
      "cell_type": "code",
      "execution_count": 17,
      "id": "da8c804d",
      "metadata": {
        "colab": {
          "base_uri": "https://localhost:8080/"
        },
        "id": "da8c804d",
        "outputId": "a7e94eb5-ca2c-4ff2-f0bc-1c70ee969ac0"
      },
      "outputs": [
        {
          "output_type": "execute_result",
          "data": {
            "text/plain": [
              "('Pésimo servicio por parte de los meseros, teníamos altas expectativas, pedí 5 hamburguesas fueron $600.00 las hamburguesas sin sabor, sin sal ni la carne ni las papas, la verdad una porquería, no me quisieron dar catsup, ni salsa, ni chile, nada,, pésimo servicio, jamas volvería..creo que la capacitación del personal es deficiente, el área de recursos humanos debe acercarse al personal y orientarlos en el trato a los clientes.',\n",
              " ['pésimo',\n",
              "  'servicio',\n",
              "  'parte',\n",
              "  'meseros',\n",
              "  'altas',\n",
              "  'expectativas',\n",
              "  'pedí',\n",
              "  'hamburguesas',\n",
              "  'hamburguesas',\n",
              "  'sabor',\n",
              "  'sal',\n",
              "  'carne',\n",
              "  'papas',\n",
              "  'verdad',\n",
              "  'porquería',\n",
              "  'quisieron',\n",
              "  'dar',\n",
              "  'catsup',\n",
              "  'salsa',\n",
              "  'chile',\n",
              "  'pésimo',\n",
              "  'servicio',\n",
              "  'jamas',\n",
              "  'volvería',\n",
              "  'creo',\n",
              "  'capacitación',\n",
              "  'personal',\n",
              "  'deficiente',\n",
              "  'área',\n",
              "  'recursos',\n",
              "  'humanos',\n",
              "  'debe',\n",
              "  'acercarse',\n",
              "  'personal',\n",
              "  'orientarlos',\n",
              "  'trato',\n",
              "  'clientes'])"
            ]
          },
          "metadata": {},
          "execution_count": 17
        }
      ],
      "source": [
        "i = 123\n",
        "#i = 27\n",
        "df['Comment'][i], vector_comments_tokenized[i]"
      ]
    },
    {
      "cell_type": "markdown",
      "id": "b30b7625",
      "metadata": {
        "id": "b30b7625"
      },
      "source": [
        "## Frequent Itemset Matrix"
      ]
    },
    {
      "cell_type": "code",
      "execution_count": 18,
      "id": "4b4a6cdc",
      "metadata": {
        "colab": {
          "base_uri": "https://localhost:8080/"
        },
        "id": "4b4a6cdc",
        "outputId": "50068cd9-4ec9-47c1-fd58-97a8189f949d"
      },
      "outputs": [
        {
          "output_type": "execute_result",
          "data": {
            "text/plain": [
              "['capacitado',\n",
              " 'correcto',\n",
              " 'slow',\n",
              " 'guadalupe',\n",
              " 'compro',\n",
              " 'pastor',\n",
              " 'nachos',\n",
              " 'puedes',\n",
              " 'excellent',\n",
              " 'parmi',\n",
              " 'visitas',\n",
              " 'légumes',\n",
              " 'scrive',\n",
              " 'conozco',\n",
              " 'fumadores',\n",
              " 'gustan',\n",
              " 'bloody',\n",
              " 'recipient',\n",
              " 'tostones',\n",
              " 'llegara',\n",
              " 'preguntar',\n",
              " 'decide',\n",
              " 'maravilla',\n",
              " 'fría',\n",
              " 'compare',\n",
              " 'días',\n",
              " 'extras',\n",
              " 'brasas',\n",
              " 'tomar',\n",
              " 'pasar',\n",
              " 'bonito',\n",
              " 'unas',\n",
              " 'cualquier',\n",
              " 'exótica',\n",
              " 'mezcal',\n",
              " 'créeme',\n",
              " 'secas',\n",
              " 'gin',\n",
              " 'ofertas',\n",
              " 'nivel',\n",
              " 'piso',\n",
              " 'nonetheless',\n",
              " 'deficiente',\n",
              " 'desesperado',\n",
              " 'presentations',\n",
              " 'negocios',\n",
              " 'everything',\n",
              " 'sink',\n",
              " 'concurrido',\n",
              " 'amantes',\n",
              " 'contemporary',\n",
              " 'atiendan',\n",
              " 'bonitas',\n",
              " 'restroom',\n",
              " 'buen',\n",
              " 'fresca',\n",
              " 'giusseppe',\n",
              " 'decoracion',\n",
              " 'excelentes',\n",
              " 'frijoles',\n",
              " 'córdoba',\n",
              " 'choix',\n",
              " 'familia',\n",
              " 'sentir',\n",
              " 'expectativas',\n",
              " 'van',\n",
              " 'ferrero',\n",
              " 'razonables',\n",
              " 'better',\n",
              " 'azul',\n",
              " 'comensales',\n",
              " 'estilo',\n",
              " 'terrible',\n",
              " 'sopa',\n",
              " 'particular',\n",
              " 'buscas',\n",
              " 'ruedas',\n",
              " 'términos',\n",
              " 'give',\n",
              " 'realizarlo',\n",
              " 'empalagosa',\n",
              " 'scanear',\n",
              " 'guarantee',\n",
              " 'zona',\n",
              " 'visité',\n",
              " 'área',\n",
              " 'meseros',\n",
              " 'business',\n",
              " 'porquería',\n",
              " 'wan',\n",
              " 'espacio',\n",
              " 'eh',\n",
              " 'carbón',\n",
              " 'respondio',\n",
              " 'antojitos',\n",
              " 'detalle',\n",
              " 'mandarles',\n",
              " 'moises',\n",
              " 'bandeja',\n",
              " 'parecen',\n",
              " 'buena',\n",
              " 'paquetes',\n",
              " 'conocedores',\n",
              " 'simpatía',\n",
              " 'hubieramos',\n",
              " 'respecto',\n",
              " 'encantan',\n",
              " 'glass',\n",
              " 'quisieron',\n",
              " 'disfrutarías',\n",
              " 'discounts',\n",
              " 'various',\n",
              " 'mundo',\n",
              " 'pronta',\n",
              " 'seco',\n",
              " 'diseño',\n",
              " 'adicional',\n",
              " 'instalaciones',\n",
              " 'baseball',\n",
              " 'prueba',\n",
              " 'including',\n",
              " 'basically',\n",
              " 'chile',\n",
              " 'viviendo',\n",
              " 'come',\n",
              " 'entrada',\n",
              " 'carnicería',\n",
              " 'normalmente',\n",
              " 'especialidad',\n",
              " 'importantes',\n",
              " 'externa',\n",
              " 'subimos',\n",
              " 'green',\n",
              " 'personal',\n",
              " 'ol',\n",
              " 'delicia',\n",
              " 'importada',\n",
              " 'estacionamiento',\n",
              " 'large',\n",
              " 'say',\n",
              " 'platz',\n",
              " 'tardaron',\n",
              " 'postres',\n",
              " 'portion',\n",
              " 'chotizos',\n",
              " 'super',\n",
              " 'ambiance',\n",
              " 'hesitate',\n",
              " 'rápida',\n",
              " 'construcción',\n",
              " 'drunken',\n",
              " 'schöne',\n",
              " 'fracaso',\n",
              " 'coctelería',\n",
              " 'montado',\n",
              " 'parece',\n",
              " 'well',\n",
              " 'novedosa',\n",
              " 'opciones',\n",
              " 'mejorar',\n",
              " 'facilities',\n",
              " 'combinarlos',\n",
              " 'liquor',\n",
              " 'normally',\n",
              " 'ambience',\n",
              " 'accesos',\n",
              " 'juntando',\n",
              " 'demasiado',\n",
              " 'sbaglio',\n",
              " 'seems',\n",
              " 'algun',\n",
              " 'dolci',\n",
              " 'rogar',\n",
              " 'recomendaria',\n",
              " 'usted',\n",
              " 'molesto',\n",
              " 'friday',\n",
              " 'celebrar',\n",
              " 'probé',\n",
              " 'justos',\n",
              " 'limpio',\n",
              " 'uso',\n",
              " 'espera',\n",
              " 'whatsoever',\n",
              " 'must',\n",
              " 'festejar',\n",
              " 'convivir',\n",
              " 'ampliarlo',\n",
              " 'beneficio',\n",
              " 'noter',\n",
              " 'parecían',\n",
              " 'nice',\n",
              " 'water',\n",
              " 'resultado',\n",
              " 'lugar',\n",
              " 'fritas',\n",
              " 'seleccionando',\n",
              " 'concordia',\n",
              " 'option',\n",
              " 'diversas',\n",
              " 'atentos',\n",
              " 'servicio',\n",
              " 'tomawauk',\n",
              " 'mismo',\n",
              " 'ambas',\n",
              " 'demás',\n",
              " 'especifico',\n",
              " 'desafortunadamente',\n",
              " 'go',\n",
              " 'iniciado',\n",
              " 'despues',\n",
              " 'económicas',\n",
              " 'good',\n",
              " 'ahí',\n",
              " 'restaurantes',\n",
              " 'cálido',\n",
              " 'definitely',\n",
              " 'gibt',\n",
              " 'two',\n",
              " 'amable',\n",
              " 'modernas',\n",
              " 'punto',\n",
              " 'bouche',\n",
              " 'riquisimas',\n",
              " 'available',\n",
              " 'ottimi',\n",
              " 'price',\n",
              " 'aceptable',\n",
              " 'promoción',\n",
              " 'llama',\n",
              " 'nunca',\n",
              " 'service',\n",
              " 'grill',\n",
              " 'tren',\n",
              " 'cena',\n",
              " 'traen',\n",
              " 'futbol',\n",
              " 'incluye',\n",
              " 'dentro',\n",
              " 'descaro',\n",
              " 'pusiera',\n",
              " 'eased',\n",
              " 'cambiaron',\n",
              " 'llevo',\n",
              " 'cuenta',\n",
              " 'opción',\n",
              " 'volver',\n",
              " 'sabiamos',\n",
              " 'acordes',\n",
              " 'libre',\n",
              " 'clean',\n",
              " 'apto',\n",
              " 'note',\n",
              " 'explicaron',\n",
              " 'dedicated',\n",
              " 'ubicado',\n",
              " 'places',\n",
              " 'carta',\n",
              " 'always',\n",
              " 'salio',\n",
              " 'trajeron',\n",
              " 'volveria',\n",
              " 'peor',\n",
              " 'employees',\n",
              " 'adultos',\n",
              " 'todoooo',\n",
              " 'enjoy',\n",
              " 'gourmet',\n",
              " 'enough',\n",
              " 'humo',\n",
              " 'chicos',\n",
              " 'balcon',\n",
              " 'xcelente',\n",
              " 'poca',\n",
              " 'wine',\n",
              " 'significa',\n",
              " 'muchas',\n",
              " 'pulled',\n",
              " 'besides',\n",
              " 'space',\n",
              " 'familiar',\n",
              " 'got',\n",
              " 'local',\n",
              " 'calificar',\n",
              " 'fines',\n",
              " 'open',\n",
              " 'malo',\n",
              " 'menu',\n",
              " 'cerrarian',\n",
              " 'brazas',\n",
              " 'first',\n",
              " 'comimos',\n",
              " 'regulares',\n",
              " 'ingredientes',\n",
              " 'etc',\n",
              " 'hora',\n",
              " 'cuates',\n",
              " 'rossa',\n",
              " 'llevar',\n",
              " 'cargo',\n",
              " 'domicilio',\n",
              " 'use',\n",
              " 'servido',\n",
              " 'agradable',\n",
              " 'till',\n",
              " 'fana',\n",
              " 'compara',\n",
              " 'sabrosos',\n",
              " 'many',\n",
              " 'zarzamora',\n",
              " 'taquiza',\n",
              " 'vino',\n",
              " 'aún',\n",
              " 'marchas',\n",
              " 'trajo',\n",
              " 'aguacate',\n",
              " 'variedad',\n",
              " 'habiamos',\n",
              " 'jamas',\n",
              " 'ricas',\n",
              " 'acompañado',\n",
              " 'sabrosas',\n",
              " 'selección',\n",
              " 'dejan',\n",
              " 'also',\n",
              " 'atento',\n",
              " 'respetan',\n",
              " 'única',\n",
              " 'region',\n",
              " 'personally',\n",
              " 'preferencia',\n",
              " 'juvenil',\n",
              " 'licor',\n",
              " 'sonora',\n",
              " 'blow',\n",
              " 'bien',\n",
              " 'finta',\n",
              " 'solucionaron',\n",
              " 'resultó',\n",
              " 'surprise',\n",
              " 'dozens',\n",
              " 'acompañados',\n",
              " 'tell',\n",
              " 'parado',\n",
              " 'went',\n",
              " 'od0elppthk3i',\n",
              " 'staff',\n",
              " 'free',\n",
              " 'bebida',\n",
              " 'vayan',\n",
              " 'noche',\n",
              " 'advise',\n",
              " 'cruda',\n",
              " 'cenar',\n",
              " 'pudiera',\n",
              " 'washing',\n",
              " 'second',\n",
              " 'dejará',\n",
              " 'cambray',\n",
              " 'hands',\n",
              " 'embutidos',\n",
              " 'encanto',\n",
              " 'fresa',\n",
              " 'sorpreso',\n",
              " 'cortes',\n",
              " 'imconveniente',\n",
              " 'previously',\n",
              " 'clientes',\n",
              " 'habia',\n",
              " 'recommande',\n",
              " 'chef',\n",
              " 'veces',\n",
              " 'atrás',\n",
              " 'entraran',\n",
              " 'siempre',\n",
              " 'caos',\n",
              " 'canal',\n",
              " 'grasosa',\n",
              " 'sitios',\n",
              " 'ojalá',\n",
              " 'cerdo',\n",
              " 'asiduos',\n",
              " 'cordoba',\n",
              " 'llena',\n",
              " 'establecimiento',\n",
              " 'carne',\n",
              " 'daniel',\n",
              " 'luego',\n",
              " 'tarde',\n",
              " 'cambien',\n",
              " 'meat',\n",
              " 'recomendacion',\n",
              " 'modifico',\n",
              " 'restaurantehrjrnrngncnñfjkrucjeiwiufkdnrigmfjfifrurbrlfj3kcitgglrjnxlgyhvittvoyzmkrjfhgjbfhfbgurbgbbfdnobzitihk30',\n",
              " 'decir',\n",
              " 'mar',\n",
              " 'socio',\n",
              " 'might',\n",
              " 'picaña',\n",
              " 'cooked',\n",
              " 'capta',\n",
              " 'na',\n",
              " 'terraza',\n",
              " 'favor',\n",
              " 'descuentos',\n",
              " 'exquisitas',\n",
              " 'sucursal',\n",
              " 'gerade',\n",
              " 'ir',\n",
              " 'encendieron',\n",
              " 'probar',\n",
              " 'originales',\n",
              " 'cocinan',\n",
              " 'pretty',\n",
              " 'maravillado',\n",
              " 'encantó',\n",
              " 'hambuerguesa',\n",
              " 'carnes',\n",
              " 'types',\n",
              " 'entrato',\n",
              " 'sanitarios',\n",
              " 'un',\n",
              " 'plátanos',\n",
              " 'eat',\n",
              " 'mess',\n",
              " 'cocktails',\n",
              " 'tabla',\n",
              " 'buds',\n",
              " 'familar',\n",
              " 'típico',\n",
              " 'cócteles',\n",
              " 'beers',\n",
              " 'reservation',\n",
              " 'muuuy',\n",
              " 'algún',\n",
              " 'rica',\n",
              " 'crowded',\n",
              " 'realized',\n",
              " 'presentados',\n",
              " 'toque',\n",
              " 'usan',\n",
              " 'place',\n",
              " 'duda',\n",
              " 'aderezo',\n",
              " 'reservadas',\n",
              " 'never',\n",
              " 'lot',\n",
              " 'agradó',\n",
              " 'acordé',\n",
              " 'cumplieron',\n",
              " 'hermosa',\n",
              " 'familiares',\n",
              " 'lindo',\n",
              " 'trovate',\n",
              " 'unlike',\n",
              " 'straws',\n",
              " 'pollo',\n",
              " 'exagerado',\n",
              " 'sirloin',\n",
              " 'sido',\n",
              " 'relación',\n",
              " 'obtener',\n",
              " 'darle',\n",
              " 'tardan',\n",
              " 'wide',\n",
              " 'lujoso',\n",
              " 'acaban',\n",
              " 'baño',\n",
              " 'suficiente',\n",
              " 'tambien',\n",
              " 'hacen',\n",
              " 'arracera',\n",
              " 'altos',\n",
              " 'third',\n",
              " 'person',\n",
              " 'opinar',\n",
              " 'sirviendo',\n",
              " 'tipos',\n",
              " 'locales',\n",
              " 'calculan',\n",
              " 'genießen',\n",
              " 'hacer',\n",
              " 'climatizada',\n",
              " 'sal',\n",
              " 'perfecto',\n",
              " 'sucursales',\n",
              " 'todas',\n",
              " 'exacto',\n",
              " 'dejamos',\n",
              " 'amante',\n",
              " 'infraestructura',\n",
              " 'accesible',\n",
              " 'marca',\n",
              " 'cantidad',\n",
              " 'poliforum',\n",
              " 'glasses',\n",
              " 'años',\n",
              " 'gefallen',\n",
              " 'brinde',\n",
              " 'thought',\n",
              " 'venia',\n",
              " 'alguna',\n",
              " 'regresas',\n",
              " 'esmerada',\n",
              " 'cargaba',\n",
              " 'igual',\n",
              " 'preguntamos',\n",
              " 'frente',\n",
              " 'incredible',\n",
              " 'visitado',\n",
              " 'bottle',\n",
              " 'envejecido',\n",
              " 'exquisito',\n",
              " 'consider',\n",
              " 'protocolo',\n",
              " 'madison',\n",
              " 'minimo',\n",
              " 'try',\n",
              " 'tuetanos',\n",
              " 'burger',\n",
              " 'recomendables',\n",
              " 'diseñado',\n",
              " 'catsup',\n",
              " 'tamaño',\n",
              " 'spirits',\n",
              " 'probado',\n",
              " 'guste',\n",
              " 'lugares',\n",
              " 'complementos',\n",
              " 'bolsillo',\n",
              " 'mexiko',\n",
              " 'cut',\n",
              " 'prezzi',\n",
              " 'generosa',\n",
              " 'trato',\n",
              " 'half',\n",
              " 'sabe',\n",
              " 'lean',\n",
              " 'región',\n",
              " 'sobresaliente',\n",
              " 'options',\n",
              " 'eventhough',\n",
              " 'patatas',\n",
              " 'hechas',\n",
              " 'pesos',\n",
              " 'probablemente',\n",
              " 'cervezas',\n",
              " 'grito',\n",
              " 'deben',\n",
              " 'vegetarianos',\n",
              " 'order',\n",
              " 'elección',\n",
              " 'present',\n",
              " 'tortilla',\n",
              " 'seasoned',\n",
              " 'pandemia',\n",
              " 'mágico',\n",
              " 'visitar',\n",
              " 'style',\n",
              " 'brindan',\n",
              " 'tiempo',\n",
              " 'amigos',\n",
              " 'camarero',\n",
              " 'course',\n",
              " 'bebé',\n",
              " 'rare',\n",
              " 'guarniciones',\n",
              " 'recomiento',\n",
              " 'codigo',\n",
              " 'embargo',\n",
              " 'grande',\n",
              " 'drinks',\n",
              " 'especificar',\n",
              " 'rápido',\n",
              " 'fait',\n",
              " 'compartir',\n",
              " 'mixología',\n",
              " 'variados',\n",
              " 'pastas',\n",
              " 'esmerado',\n",
              " 'molestó',\n",
              " 'pagar',\n",
              " 'módicos',\n",
              " 'varias',\n",
              " 'venta',\n",
              " 'lentos',\n",
              " 'favorito',\n",
              " 'main',\n",
              " 'frau',\n",
              " 'partido',\n",
              " 'abrían',\n",
              " 'rated',\n",
              " 'gambas',\n",
              " 'york',\n",
              " 'gana',\n",
              " 'televisores',\n",
              " 'sitio',\n",
              " 'tamarind',\n",
              " 'copa',\n",
              " 'recomiendo',\n",
              " 'frankly',\n",
              " 'gusta',\n",
              " 'stato',\n",
              " 'ntra',\n",
              " 'asada',\n",
              " 'puede',\n",
              " 'provoca',\n",
              " 'salsas',\n",
              " 'ambos',\n",
              " 'dijo',\n",
              " 'sencillos',\n",
              " 'acompañamientos',\n",
              " 'chose',\n",
              " 'así',\n",
              " 'acercarse',\n",
              " 'queja',\n",
              " 'transmisión',\n",
              " 'alitas',\n",
              " 'ordené',\n",
              " 'burgers',\n",
              " 'aveces',\n",
              " 'viande',\n",
              " 'blackend',\n",
              " 'abundante',\n",
              " 'acudir',\n",
              " 'tres',\n",
              " 'cochinita',\n",
              " 'designed',\n",
              " 'regresaríamos',\n",
              " 'precios',\n",
              " 'delicious',\n",
              " 'café',\n",
              " 'imported',\n",
              " 'detalles',\n",
              " 'variadas',\n",
              " 'considerables',\n",
              " 'orizaba',\n",
              " 'exquisita',\n",
              " 'restaurant',\n",
              " 'luces',\n",
              " 'haut',\n",
              " 'small',\n",
              " 'empezaron',\n",
              " 'ever',\n",
              " 'spina',\n",
              " 'different',\n",
              " 'normal',\n",
              " 'publicidad',\n",
              " 'demerita',\n",
              " 'ameno',\n",
              " 'reasonable',\n",
              " 'platica',\n",
              " 'arrachera',\n",
              " 'entradas',\n",
              " 'superado',\n",
              " 'competencia',\n",
              " 'solo',\n",
              " 'céntrico',\n",
              " 'beber',\n",
              " 'niños',\n",
              " 'regular',\n",
              " 'garnachas',\n",
              " 'medium',\n",
              " 'verdad',\n",
              " 'mucha',\n",
              " 'tomberez',\n",
              " 'hand',\n",
              " 'razonable',\n",
              " 'montón',\n",
              " 'alegres',\n",
              " 'preferido',\n",
              " 'important',\n",
              " 'dude',\n",
              " 'quasi',\n",
              " 'energético',\n",
              " 'costo',\n",
              " 'joven',\n",
              " 'sabroso',\n",
              " 'almost',\n",
              " 'recomendaría',\n",
              " 'llenos',\n",
              " 'cortés',\n",
              " 'acuerdo',\n",
              " 'veracruz',\n",
              " 'quizás',\n",
              " 'comido',\n",
              " 'dar',\n",
              " 'aquí',\n",
              " 'worst',\n",
              " 'veganos',\n",
              " 'amplios',\n",
              " 'i4jiflkyjikvfk',\n",
              " 'abstente',\n",
              " 'boutique',\n",
              " 'cocina',\n",
              " 'realmente',\n",
              " 'would',\n",
              " 'adentro',\n",
              " 'estupenda',\n",
              " 'clericot',\n",
              " 'grs',\n",
              " 'micheladas',\n",
              " 'jack',\n",
              " 'ver',\n",
              " 'baratos',\n",
              " 'malteadas',\n",
              " 'fútbol',\n",
              " 'artesanal',\n",
              " 'llega',\n",
              " 'pena',\n",
              " 'atención',\n",
              " 'pues',\n",
              " 'potatoes',\n",
              " 'regresaremos',\n",
              " 'fuerte',\n",
              " 'acogedor',\n",
              " 'año',\n",
              " 'problemas',\n",
              " 'started',\n",
              " 'refreshed',\n",
              " '2x1',\n",
              " 'pambazo',\n",
              " 'reviewed',\n",
              " 'cenariamos',\n",
              " 'coccion',\n",
              " 'hgh',\n",
              " 'diferentes',\n",
              " 'mexican',\n",
              " 'pedi',\n",
              " 'bueno',\n",
              " 'porción',\n",
              " 'favorita',\n",
              " 'preguntarían',\n",
              " 'si',\n",
              " 'temperatura',\n",
              " 'lemonade',\n",
              " 'ambiente',\n",
              " 'brouille',\n",
              " 'pan',\n",
              " 'changing',\n",
              " 'classiques',\n",
              " 'cuts',\n",
              " 'sucio',\n",
              " 'tasty',\n",
              " 'agrado',\n",
              " 'ther',\n",
              " 'botella',\n",
              " 'suavecita',\n",
              " 'personalizar',\n",
              " 'easily',\n",
              " 'restaurante',\n",
              " 'experiencia',\n",
              " 'enjoyed',\n",
              " 'limonada',\n",
              " 'precio',\n",
              " 'da',\n",
              " 'instalado',\n",
              " 'jarocho',\n",
              " 'calle',\n",
              " 'walls',\n",
              " 'id',\n",
              " 'snacks',\n",
              " 'segura',\n",
              " 'volveremos',\n",
              " 'reserva',\n",
              " 'tiempos',\n",
              " 'pesar',\n",
              " 'significar',\n",
              " 'moderado',\n",
              " 'tasteful',\n",
              " 'geniales',\n",
              " 'p',\n",
              " 'delicioso',\n",
              " 'totalmente',\n",
              " 'ingredients',\n",
              " 'personas',\n",
              " 'vale',\n",
              " 'mango',\n",
              " 'cheve',\n",
              " 'like',\n",
              " 'yes',\n",
              " 'indico',\n",
              " 'pienso',\n",
              " 'besonders',\n",
              " 'queríamos',\n",
              " 'superior',\n",
              " 'déspota',\n",
              " 'pleasant',\n",
              " 'horror',\n",
              " 'méxico',\n",
              " 'prices',\n",
              " 'excelencia',\n",
              " 'relativamente',\n",
              " 'ampliamente',\n",
              " 'además',\n",
              " 'obligan',\n",
              " 'stop',\n",
              " 'confortable',\n",
              " 'adecuado',\n",
              " 'carniceria',\n",
              " 'drink',\n",
              " 'retiramos',\n",
              " 'disfrutando',\n",
              " 'inhabilitó',\n",
              " 'alimentos',\n",
              " 'frecuente',\n",
              " 'pdf',\n",
              " 'though',\n",
              " 'atencion',\n",
              " 'volumen',\n",
              " 'competitivos',\n",
              " 'queda',\n",
              " 'straw',\n",
              " 'downs',\n",
              " 'señorita',\n",
              " 'resulte',\n",
              " 'reseco',\n",
              " 'creates',\n",
              " 'quality',\n",
              " 'hamburguesa',\n",
              " 'presentación',\n",
              " 'entenderlo',\n",
              " 'diera',\n",
              " 'comodidad',\n",
              " 'porterhouse',\n",
              " 'existe',\n",
              " 'público',\n",
              " 'primer',\n",
              " 'altas',\n",
              " 'deliciosa',\n",
              " 'poner',\n",
              " 'every',\n",
              " 'semana',\n",
              " 'picanha',\n",
              " 'reunión',\n",
              " 'manageable',\n",
              " 'asarla',\n",
              " 'arquitectura',\n",
              " 'sesina',\n",
              " 'cuisine',\n",
              " 'buenas',\n",
              " 'amerita',\n",
              " 'burritos',\n",
              " 'beverages',\n",
              " 'hacernos',\n",
              " 'since',\n",
              " 'propio',\n",
              " 'new',\n",
              " 'diferente',\n",
              " 'mayoría',\n",
              " 'così',\n",
              " 'forzadas',\n",
              " 'compañada',\n",
              " 'specials',\n",
              " 'sienta',\n",
              " 'permite',\n",
              " 'iglesia',\n",
              " 'ahi',\n",
              " 'platillo',\n",
              " 'pimiento',\n",
              " 'tacos',\n",
              " 'casi',\n",
              " 'remembered',\n",
              " 'tocó',\n",
              " 'buenisimas',\n",
              " 'trabajo',\n",
              " 'niño',\n",
              " 'maravillosa',\n",
              " 'barroca',\n",
              " 'magnífica',\n",
              " 'entiende',\n",
              " 'ponen',\n",
              " 'prohibido',\n",
              " 'sabor',\n",
              " 'definitivamente',\n",
              " 'rib',\n",
              " 'recordaría',\n",
              " 'bello',\n",
              " 'enormes',\n",
              " 'beliebten',\n",
              " 'fresco',\n",
              " 'pie',\n",
              " 'ligeramente',\n",
              " 'califico',\n",
              " 'full',\n",
              " 'tratan',\n",
              " 'finalizar',\n",
              " 'debiera',\n",
              " 'riquísimo',\n",
              " 'rico',\n",
              " 'sra',\n",
              " 'sencillo',\n",
              " 'hacia',\n",
              " 'much',\n",
              " 'classic',\n",
              " 'serve',\n",
              " 'disfrutamos',\n",
              " 'ademas',\n",
              " 'mantener',\n",
              " 'adereso',\n",
              " 'anymore',\n",
              " 'back',\n",
              " 'agradables',\n",
              " 'deliciosos',\n",
              " 'pasmado',\n",
              " 'orientarlos',\n",
              " 'grupo',\n",
              " 'wash',\n",
              " 'toca',\n",
              " 'asi',\n",
              " 'abiertas',\n",
              " 'solamente',\n",
              " 'aros',\n",
              " 'papada',\n",
              " 'podría',\n",
              " 'partidos',\n",
              " 'ubicación',\n",
              " 'tensión',\n",
              " 'aged',\n",
              " 'mejores',\n",
              " 'ofrecen',\n",
              " 'horas',\n",
              " 'tráfico',\n",
              " 'mitad',\n",
              " 'llegar',\n",
              " 'primera',\n",
              " 'quite',\n",
              " 'oferta',\n",
              " 'cumple',\n",
              " 'packed',\n",
              " 'inmediato',\n",
              " 'pedido',\n",
              " 'presupuestos',\n",
              " 'lento',\n",
              " 'cuanto',\n",
              " 'tan',\n",
              " 'encanta',\n",
              " 'visit',\n",
              " 'concepto',\n",
              " 'manejan',\n",
              " 'medio',\n",
              " 'quede',\n",
              " 'sana',\n",
              " 'meeting',\n",
              " 'frutas',\n",
              " 'parroquia',\n",
              " 'establecido',\n",
              " 'pasado',\n",
              " 'alcance',\n",
              " 'salmón',\n",
              " 'otizaba',\n",
              " 'shrimps',\n",
              " 'pibil',\n",
              " 'aviso',\n",
              " 'comen',\n",
              " 'gelegen',\n",
              " 'frio',\n",
              " 'volvería',\n",
              " 'afuera',\n",
              " 'friends',\n",
              " 'porciones',\n",
              " 'dos',\n",
              " 'textura',\n",
              " 'emblemática',\n",
              " 'personalmente',\n",
              " 'privilegiada',\n",
              " 'proporción',\n",
              " 'bucket',\n",
              " 'really',\n",
              " 'juegos',\n",
              " 'gran',\n",
              " 'mientras',\n",
              " 'comí',\n",
              " 'disfrutó',\n",
              " 'valor',\n",
              " 'aire',\n",
              " 'música',\n",
              " 'menos',\n",
              " 'dan',\n",
              " 'beer',\n",
              " 'night',\n",
              " 'toda',\n",
              " 'vaso',\n",
              " 'utilizó',\n",
              " 'maneja',\n",
              " 'pueblo',\n",
              " 'momento',\n",
              " 'vaca',\n",
              " 'después',\n",
              " 'situación',\n",
              " 'caso',\n",
              " 'desmerece',\n",
              " 'atendiendo',\n",
              " 'especial',\n",
              " 'serves',\n",
              " 'ruido',\n",
              " 'amount',\n",
              " 'bolsillos',\n",
              " 'conversar',\n",
              " 'cítrico',\n",
              " ...]"
            ]
          },
          "metadata": {},
          "execution_count": 18
        }
      ],
      "source": [
        "# Todos los tokens de todos los comentarios ya filtrados los pasamos a un solo vector\n",
        "vector_comments_tokenized_flatten = [token for comment in vector_comments_tokenized for token in comment]\n",
        "# Ese vector lo reducimos a que solo contenga valores unicos\n",
        "vector_comments_tokenized_flatten = list(set(vector_comments_tokenized_flatten))\n",
        "vector_comments_tokenized_flatten"
      ]
    },
    {
      "cell_type": "markdown",
      "id": "a7933ca3",
      "metadata": {
        "id": "a7933ca3"
      },
      "source": [
        "Podemos ver que la matriz sera de:"
      ]
    },
    {
      "cell_type": "code",
      "execution_count": 19,
      "id": "6821a2d3",
      "metadata": {
        "colab": {
          "base_uri": "https://localhost:8080/"
        },
        "id": "6821a2d3",
        "outputId": "1eb32fe9-c8a4-48bd-d451-0ebf02d82bf9"
      },
      "outputs": [
        {
          "output_type": "stream",
          "name": "stdout",
          "text": [
            "155 1492\n"
          ]
        }
      ],
      "source": [
        "#Renglones y columnas:\n",
        "print(len(df), len(vector_comments_tokenized_flatten))"
      ]
    },
    {
      "cell_type": "code",
      "execution_count": 20,
      "id": "037b05ec",
      "metadata": {
        "colab": {
          "base_uri": "https://localhost:8080/"
        },
        "id": "037b05ec",
        "outputId": "94a4c44c-8db3-4938-c26a-bc204fde97c1"
      },
      "outputs": [
        {
          "output_type": "execute_result",
          "data": {
            "text/plain": [
              "array([[0, 0, 0, ..., 0, 0, 0],\n",
              "       [0, 0, 0, ..., 0, 0, 0],\n",
              "       [0, 0, 0, ..., 1, 0, 0],\n",
              "       ...,\n",
              "       [0, 0, 0, ..., 0, 0, 0],\n",
              "       [0, 0, 0, ..., 0, 0, 0],\n",
              "       [0, 0, 0, ..., 0, 0, 0]])"
            ]
          },
          "metadata": {},
          "execution_count": 20
        }
      ],
      "source": [
        "frequent_Itemset_Matrix = []\n",
        "for comment in vector_comments_tokenized:\n",
        "    count_vector = []\n",
        "    for item in vector_comments_tokenized_flatten:\n",
        "        count = 0\n",
        "        for token in comment:\n",
        "            if item == token:\n",
        "                count += 1\n",
        "        count_vector.append(count)\n",
        "    frequent_Itemset_Matrix.append(count_vector)\n",
        "frequent_Itemset_Matrix = np.array(frequent_Itemset_Matrix)\n",
        "frequent_Itemset_Matrix"
      ]
    },
    {
      "cell_type": "code",
      "execution_count": 21,
      "id": "a043d6c1",
      "metadata": {
        "colab": {
          "base_uri": "https://localhost:8080/"
        },
        "id": "a043d6c1",
        "outputId": "6cc96ceb-e8ad-4777-f051-2ff3059b79f8"
      },
      "outputs": [
        {
          "output_type": "execute_result",
          "data": {
            "text/plain": [
              "(155, 1492)"
            ]
          },
          "metadata": {},
          "execution_count": 21
        }
      ],
      "source": [
        "np.shape(frequent_Itemset_Matrix)"
      ]
    },
    {
      "cell_type": "markdown",
      "id": "d1021001",
      "metadata": {
        "id": "d1021001"
      },
      "source": [
        "# Clustering"
      ]
    },
    {
      "cell_type": "markdown",
      "id": "84bf238c",
      "metadata": {
        "id": "84bf238c"
      },
      "source": [
        "## Creamos el modelo y lo entrenamos"
      ]
    },
    {
      "cell_type": "code",
      "execution_count": 22,
      "id": "3ae47fb0",
      "metadata": {
        "id": "3ae47fb0"
      },
      "outputs": [],
      "source": [
        "kmeans = KMeans(init='k-means++', n_clusters = 3)\n",
        "kmeans.fit(frequent_Itemset_Matrix)\n",
        "y_kmeans = kmeans.predict(frequent_Itemset_Matrix)\n",
        "centers = kmeans.cluster_centers_"
      ]
    },
    {
      "cell_type": "markdown",
      "id": "8f946ffc",
      "metadata": {
        "id": "8f946ffc"
      },
      "source": [
        "## Obtenemos los centros de los 3 clusters"
      ]
    },
    {
      "cell_type": "code",
      "execution_count": 23,
      "id": "0e21a26d",
      "metadata": {
        "colab": {
          "base_uri": "https://localhost:8080/"
        },
        "id": "0e21a26d",
        "outputId": "16b15624-0281-4d94-d2c2-03ba398d3d23"
      },
      "outputs": [
        {
          "output_type": "execute_result",
          "data": {
            "text/plain": [
              "array([[ 4.33680869e-18,  2.94117647e-02,  4.33680869e-18, ...,\n",
              "         2.94117647e-02,  2.94117647e-02,  4.33680869e-18],\n",
              "       [ 8.33333333e-03, -8.67361738e-18,  8.33333333e-03, ...,\n",
              "        -8.67361738e-18, -8.67361738e-18,  8.33333333e-03],\n",
              "       [ 0.00000000e+00,  0.00000000e+00,  0.00000000e+00, ...,\n",
              "         0.00000000e+00,  0.00000000e+00,  0.00000000e+00]])"
            ]
          },
          "metadata": {},
          "execution_count": 23
        }
      ],
      "source": [
        "centers"
      ]
    },
    {
      "cell_type": "markdown",
      "id": "1406d729",
      "metadata": {
        "id": "1406d729"
      },
      "source": [
        "## Obtenemos las etiquetas que el metodo asigno\n",
        "(en clustering estas etiquetas son desconocidas, por lo que no sabemos el tipo de comentario aun)"
      ]
    },
    {
      "cell_type": "code",
      "execution_count": 24,
      "id": "536b24a8",
      "metadata": {
        "colab": {
          "base_uri": "https://localhost:8080/"
        },
        "id": "536b24a8",
        "outputId": "76c0f72a-7d1e-41e7-cf14-a8089e56010c"
      },
      "outputs": [
        {
          "output_type": "execute_result",
          "data": {
            "text/plain": [
              "array([0, 1, 0, 0, 1, 1, 1, 1, 1, 1, 1, 1, 0, 1, 1, 1, 1, 1, 1, 0, 1, 1,\n",
              "       0, 1, 1, 0, 1, 1, 0, 0, 1, 0, 1, 1, 0, 1, 1, 0, 1, 1, 1, 0, 1, 1,\n",
              "       1, 1, 1, 1, 1, 1, 1, 1, 1, 1, 1, 1, 1, 0, 1, 0, 1, 1, 1, 1, 1, 1,\n",
              "       0, 0, 1, 1, 1, 0, 1, 1, 0, 0, 1, 1, 1, 0, 1, 1, 1, 1, 0, 1, 1, 1,\n",
              "       1, 0, 1, 1, 1, 1, 0, 1, 1, 1, 1, 1, 0, 0, 1, 1, 0, 1, 1, 0, 1, 0,\n",
              "       1, 0, 1, 1, 1, 1, 0, 1, 1, 1, 0, 1, 1, 1, 1, 1, 1, 1, 1, 1, 1, 0,\n",
              "       1, 0, 1, 1, 1, 2, 1, 1, 1, 1, 1, 1, 1, 1, 1, 1, 1, 1, 1, 1, 1, 1,\n",
              "       1], dtype=int32)"
            ]
          },
          "metadata": {},
          "execution_count": 24
        }
      ],
      "source": [
        "y_kmeans"
      ]
    },
    {
      "cell_type": "markdown",
      "source": [
        "# __Utilizamos clasificación por maquinas de soporte vectorial__"
      ],
      "metadata": {
        "id": "ngemTu-At4Ij"
      },
      "id": "ngemTu-At4Ij"
    },
    {
      "cell_type": "markdown",
      "source": [
        "## Entrenamos con la matriz de frecuencias y las etiquetas resultantes y predecimos con la SVM creada."
      ],
      "metadata": {
        "id": "yXhOPEQhuBd2"
      },
      "id": "yXhOPEQhuBd2"
    },
    {
      "cell_type": "code",
      "source": [
        "svc = SVC(gamma = 0.1, C = 10)\n",
        "svc.fit(frequent_Itemset_Matrix, y_kmeans)\n",
        "y_predict_svm = svc.predict(frequent_Itemset_Matrix)\n",
        "y_predict_svm"
      ],
      "metadata": {
        "id": "3ujjrNNdsDKx",
        "outputId": "1fbb940d-ae96-4b75-e0f3-775973aa746d",
        "colab": {
          "base_uri": "https://localhost:8080/"
        }
      },
      "id": "3ujjrNNdsDKx",
      "execution_count": 36,
      "outputs": [
        {
          "output_type": "execute_result",
          "data": {
            "text/plain": [
              "array([0, 1, 0, 0, 1, 1, 1, 1, 1, 1, 1, 1, 0, 1, 1, 1, 1, 1, 1, 0, 1, 1,\n",
              "       0, 1, 1, 0, 1, 1, 0, 0, 1, 0, 1, 1, 0, 1, 1, 0, 1, 1, 1, 0, 1, 1,\n",
              "       1, 1, 1, 1, 1, 1, 1, 1, 1, 1, 1, 1, 1, 0, 1, 0, 1, 1, 1, 1, 1, 1,\n",
              "       0, 0, 1, 1, 1, 0, 1, 1, 0, 0, 1, 1, 1, 0, 1, 1, 1, 1, 0, 1, 1, 1,\n",
              "       1, 0, 1, 1, 1, 1, 0, 1, 1, 1, 1, 1, 0, 0, 1, 1, 0, 1, 1, 0, 1, 0,\n",
              "       1, 0, 1, 1, 1, 1, 0, 1, 1, 1, 0, 1, 1, 1, 1, 1, 1, 1, 1, 1, 1, 0,\n",
              "       1, 0, 1, 1, 1, 2, 1, 1, 1, 1, 1, 1, 1, 1, 1, 1, 1, 1, 1, 1, 1, 1,\n",
              "       1], dtype=int32)"
            ]
          },
          "metadata": {},
          "execution_count": 36
        }
      ]
    },
    {
      "cell_type": "markdown",
      "source": [
        "## Calculamos la matriz de confusión"
      ],
      "metadata": {
        "id": "nBNTzIdeuMbD"
      },
      "id": "nBNTzIdeuMbD"
    },
    {
      "cell_type": "code",
      "source": [
        "confusion_matrix = skl.confusion_matrix(y_kmeans, y_predict_svm)\n",
        "confusion_matrix"
      ],
      "metadata": {
        "id": "dCN4bl21tafB",
        "outputId": "017e38bc-4a4d-4e48-bb50-47eab7541d47",
        "colab": {
          "base_uri": "https://localhost:8080/"
        }
      },
      "id": "dCN4bl21tafB",
      "execution_count": 37,
      "outputs": [
        {
          "output_type": "execute_result",
          "data": {
            "text/plain": [
              "array([[ 34,   0,   0],\n",
              "       [  0, 120,   0],\n",
              "       [  0,   0,   1]])"
            ]
          },
          "metadata": {},
          "execution_count": 37
        }
      ]
    },
    {
      "cell_type": "markdown",
      "source": [
        "## Hacemos la matriz de confusión más estética"
      ],
      "metadata": {
        "id": "Qe73URW3u1V2"
      },
      "id": "Qe73URW3u1V2"
    },
    {
      "cell_type": "code",
      "source": [
        "def plot_confusion_matrix(cm, title='Confusion matrix', cmap=plt.cm.Oranges):\n",
        "    plt.imshow(cm, interpolation='nearest', cmap=cmap)\n",
        "    plt.title(title)\n",
        "    #plt.colorbar()\n",
        "    tick_marks = np.arange(cm.shape[1])\n",
        "    plt.xticks(tick_marks)\n",
        "    plt.yticks(tick_marks)\n",
        "\n",
        "    thresh = cm.max() / 2.\n",
        "    for i, j in itertools.product(range(cm.shape[0]), range(cm.shape[1])):\n",
        "        plt.text(j, i, format(cm[i, j], '.1f'),\n",
        "                 horizontalalignment=\"center\",\n",
        "                 color=\"white\" if cm[i, j] > thresh else \"black\")\n",
        "\n",
        "    #plt.tight_layout()\n",
        "    plt.ylabel('True label')\n",
        "    plt.xlabel('Predicted label')\n",
        "plot_confusion_matrix(confusion_matrix)"
      ],
      "metadata": {
        "id": "QeGYxAHGttNM",
        "outputId": "b8988126-0b91-4bae-de65-49d9d1ae6cc2",
        "colab": {
          "base_uri": "https://localhost:8080/",
          "height": 295
        }
      },
      "id": "QeGYxAHGttNM",
      "execution_count": 34,
      "outputs": [
        {
          "output_type": "display_data",
          "data": {
            "text/plain": [
              "<Figure size 432x288 with 1 Axes>"
            ],
            "image/png": "[encoded data removed]"
          },
          "metadata": {
            "needs_background": "light"
          }
        }
      ]
    },
    {
      "cell_type": "markdown",
      "source": [
        "## A partir de la matriz de confusión calculamos métricas de rendimiento de la máquina SVM"
      ],
      "metadata": {
        "id": "L8PMZERju6Lr"
      },
      "id": "L8PMZERju6Lr"
    },
    {
      "cell_type": "code",
      "source": [
        "diag = 0\n",
        "for i in range(len(confusion_matrix)):\n",
        "  diag += confusion_matrix[i][i]\n",
        "ACC = diag/len(y_kmeans)\n",
        "ACC"
      ],
      "metadata": {
        "id": "ECkHN9Ybto5q",
        "outputId": "8806ee19-f895-44c2-d5ea-5545495805c8",
        "colab": {
          "base_uri": "https://localhost:8080/"
        }
      },
      "id": "ECkHN9Ybto5q",
      "execution_count": 33,
      "outputs": [
        {
          "output_type": "execute_result",
          "data": {
            "text/plain": [
              "1.0"
            ]
          },
          "metadata": {},
          "execution_count": 33
        }
      ]
    },
    {
      "cell_type": "code",
      "source": [
        "f1_score(y_kmeans, y_predict_svm, average='macro')"
      ],
      "metadata": {
        "id": "oTrBW5Irx2Wr",
        "outputId": "03cf2f20-9730-4b1e-a881-eee7711a632a",
        "colab": {
          "base_uri": "https://localhost:8080/"
        }
      },
      "id": "oTrBW5Irx2Wr",
      "execution_count": 53,
      "outputs": [
        {
          "output_type": "execute_result",
          "data": {
            "text/plain": [
              "1.0"
            ]
          },
          "metadata": {},
          "execution_count": 53
        }
      ]
    },
    {
      "cell_type": "code",
      "source": [
        "f1_score(y_kmeans, y_predict_svm, average='micro')"
      ],
      "metadata": {
        "id": "IgUxXxSBx5NA",
        "outputId": "6fb979f0-5015-4088-f554-ffd9b089df2d",
        "colab": {
          "base_uri": "https://localhost:8080/"
        }
      },
      "id": "IgUxXxSBx5NA",
      "execution_count": 54,
      "outputs": [
        {
          "output_type": "execute_result",
          "data": {
            "text/plain": [
              "1.0"
            ]
          },
          "metadata": {},
          "execution_count": 54
        }
      ]
    },
    {
      "cell_type": "code",
      "source": [
        "f1_score(y_kmeans, y_predict_svm, average='weighted')"
      ],
      "metadata": {
        "id": "DyvNYFhQx8qu",
        "outputId": "680dc601-f75e-478d-fb08-7ce22537b55b",
        "colab": {
          "base_uri": "https://localhost:8080/"
        }
      },
      "id": "DyvNYFhQx8qu",
      "execution_count": 57,
      "outputs": [
        {
          "output_type": "execute_result",
          "data": {
            "text/plain": [
              "1.0"
            ]
          },
          "metadata": {},
          "execution_count": 57
        }
      ]
    },
    {
      "cell_type": "code",
      "source": [
        "f1_score(y_kmeans, y_predict_svm, average=None)"
      ],
      "metadata": {
        "id": "17ze7TGBx-FN",
        "outputId": "0184066d-1442-4543-9f75-6f3201ff1f86",
        "colab": {
          "base_uri": "https://localhost:8080/"
        }
      },
      "id": "17ze7TGBx-FN",
      "execution_count": 58,
      "outputs": [
        {
          "output_type": "execute_result",
          "data": {
            "text/plain": [
              "array([1., 1., 1.])"
            ]
          },
          "metadata": {},
          "execution_count": 58
        }
      ]
    },
    {
      "cell_type": "markdown",
      "source": [
        "# __Utilizamos clasificación por el método de Naive Bayes__"
      ],
      "metadata": {
        "id": "XGnjGzxVvkGi"
      },
      "id": "XGnjGzxVvkGi"
    },
    {
      "cell_type": "code",
      "source": [
        "gnb = GaussianNB()\n",
        "gnb.fit(frequent_Itemset_Matrix, y_kmeans)\n",
        "y_predict_nb = gnb.predict(frequent_Itemset_Matrix)\n",
        "y_predict_nb"
      ],
      "metadata": {
        "id": "mnur3xwovZFk",
        "outputId": "e153d287-92f6-4dcf-99bf-ee8594ef3781",
        "colab": {
          "base_uri": "https://localhost:8080/"
        }
      },
      "id": "mnur3xwovZFk",
      "execution_count": 38,
      "outputs": [
        {
          "output_type": "execute_result",
          "data": {
            "text/plain": [
              "array([0, 1, 0, 0, 1, 1, 1, 1, 1, 1, 1, 1, 0, 1, 1, 1, 1, 1, 1, 0, 1, 1,\n",
              "       0, 1, 1, 0, 1, 1, 0, 0, 1, 0, 1, 1, 0, 1, 1, 0, 1, 1, 1, 0, 1, 1,\n",
              "       1, 1, 1, 1, 1, 1, 1, 1, 1, 1, 1, 1, 1, 0, 1, 0, 1, 1, 1, 1, 1, 1,\n",
              "       0, 0, 1, 1, 1, 0, 1, 1, 0, 0, 1, 1, 1, 0, 1, 1, 1, 1, 0, 1, 1, 1,\n",
              "       0, 0, 1, 1, 1, 1, 0, 1, 1, 1, 1, 1, 0, 0, 1, 1, 0, 1, 1, 0, 1, 0,\n",
              "       1, 0, 1, 1, 1, 1, 0, 1, 1, 1, 0, 1, 1, 1, 1, 1, 1, 1, 1, 1, 1, 0,\n",
              "       1, 0, 1, 1, 1, 2, 1, 1, 1, 1, 1, 1, 1, 1, 1, 1, 1, 1, 1, 1, 1, 1,\n",
              "       1], dtype=int32)"
            ]
          },
          "metadata": {},
          "execution_count": 38
        }
      ]
    },
    {
      "cell_type": "markdown",
      "source": [
        "## Repetimos la metodología de la matriz de confusión para obtener las métricas de Naive Bayes"
      ],
      "metadata": {
        "id": "RmrhqwY1xZCH"
      },
      "id": "RmrhqwY1xZCH"
    },
    {
      "cell_type": "code",
      "source": [
        "confusion_matrix = skl.confusion_matrix(y_kmeans, y_predict_nb)\n",
        "confusion_matrix"
      ],
      "metadata": {
        "id": "LrGYnNxiwObK",
        "outputId": "51885b9d-c09c-440e-e1e0-2c4f4f7c982c",
        "colab": {
          "base_uri": "https://localhost:8080/"
        }
      },
      "id": "LrGYnNxiwObK",
      "execution_count": 43,
      "outputs": [
        {
          "output_type": "execute_result",
          "data": {
            "text/plain": [
              "array([[ 34,   0,   0],\n",
              "       [  1, 119,   0],\n",
              "       [  0,   0,   1]])"
            ]
          },
          "metadata": {},
          "execution_count": 43
        }
      ]
    },
    {
      "cell_type": "code",
      "source": [
        "def plot_confusion_matrix(cm, title='Confusion matrix', cmap=plt.cm.Oranges):\n",
        "    plt.imshow(cm, interpolation='nearest', cmap=cmap)\n",
        "    plt.title(title)\n",
        "    plt.colorbar()\n",
        "    tick_marks = np.arange(cm.shape[1])\n",
        "    plt.xticks(tick_marks)\n",
        "    plt.yticks(tick_marks)\n",
        "\n",
        "    thresh = cm.max() / 2.\n",
        "    for i, j in itertools.product(range(cm.shape[0]), range(cm.shape[1])):\n",
        "        plt.text(j, i, format(cm[i, j], '.1f'),\n",
        "                 horizontalalignment=\"center\",\n",
        "                 color=\"white\" if cm[i, j] > thresh else \"black\")\n",
        "\n",
        "    #plt.tight_layout()\n",
        "    plt.ylabel('True label')\n",
        "    plt.xlabel('Predicted label')\n",
        "plot_confusion_matrix(confusion_matrix)"
      ],
      "metadata": {
        "id": "dyOQMQm7wQyz",
        "outputId": "f955abb1-c51c-4b8e-fe4c-f48938875f6e",
        "colab": {
          "base_uri": "https://localhost:8080/",
          "height": 295
        }
      },
      "id": "dyOQMQm7wQyz",
      "execution_count": 59,
      "outputs": [
        {
          "output_type": "display_data",
          "data": {
            "text/plain": [
              "<Figure size 432x288 with 2 Axes>"
            ],
            "image/png": "[encoded data removed]"
          },
          "metadata": {
            "needs_background": "light"
          }
        }
      ]
    },
    {
      "cell_type": "code",
      "source": [
        "diag = 0\n",
        "for i in range(len(confusion_matrix)):\n",
        "  diag += confusion_matrix[i][i]\n",
        "ACC = diag/len(y_kmeans)\n",
        "ACC"
      ],
      "metadata": {
        "id": "4Q_broZiwULo",
        "outputId": "d84f035d-1136-492b-fe83-3162a05f3e9a",
        "colab": {
          "base_uri": "https://localhost:8080/"
        }
      },
      "id": "4Q_broZiwULo",
      "execution_count": 45,
      "outputs": [
        {
          "output_type": "execute_result",
          "data": {
            "text/plain": [
              "0.9935483870967742"
            ]
          },
          "metadata": {},
          "execution_count": 45
        }
      ]
    },
    {
      "cell_type": "code",
      "source": [
        "f1_score(y_kmeans, y_predict_nb, average='macro')"
      ],
      "metadata": {
        "id": "DVFfVb0Jwx2t",
        "outputId": "36387aff-1ee8-4f3a-c389-c0a72ea696ac",
        "colab": {
          "base_uri": "https://localhost:8080/"
        }
      },
      "id": "DVFfVb0Jwx2t",
      "execution_count": 48,
      "outputs": [
        {
          "output_type": "execute_result",
          "data": {
            "text/plain": [
              "0.9937743819861339"
            ]
          },
          "metadata": {},
          "execution_count": 48
        }
      ]
    },
    {
      "cell_type": "code",
      "source": [
        "f1_score(y_kmeans, y_predict_nb, average='micro')"
      ],
      "metadata": {
        "id": "u6NgQ19kxmbx",
        "outputId": "1e862190-d0f5-43f9-d10d-3be2bcabffbb",
        "colab": {
          "base_uri": "https://localhost:8080/"
        }
      },
      "id": "u6NgQ19kxmbx",
      "execution_count": 50,
      "outputs": [
        {
          "output_type": "execute_result",
          "data": {
            "text/plain": [
              "0.9935483870967742"
            ]
          },
          "metadata": {},
          "execution_count": 50
        }
      ]
    },
    {
      "cell_type": "code",
      "source": [
        "f1_score(y_kmeans, y_predict_nb, average='weighted')"
      ],
      "metadata": {
        "id": "uToBzu5_xiJ8",
        "outputId": "eb2d2700-3d74-46f5-b7a2-b89fa0fe5dad",
        "colab": {
          "base_uri": "https://localhost:8080/"
        }
      },
      "id": "uToBzu5_xiJ8",
      "execution_count": 51,
      "outputs": [
        {
          "output_type": "execute_result",
          "data": {
            "text/plain": [
              "0.9935816408167897"
            ]
          },
          "metadata": {},
          "execution_count": 51
        }
      ]
    },
    {
      "cell_type": "code",
      "source": [
        "f1_score(y_kmeans, y_predict_nb, average=None)"
      ],
      "metadata": {
        "id": "z47K_H0RxnCJ",
        "outputId": "efb27b7a-1f1c-42e4-91c3-aadb07ff9744",
        "colab": {
          "base_uri": "https://localhost:8080/"
        }
      },
      "id": "z47K_H0RxnCJ",
      "execution_count": 52,
      "outputs": [
        {
          "output_type": "execute_result",
          "data": {
            "text/plain": [
              "array([0.98550725, 0.9958159 , 1.        ])"
            ]
          },
          "metadata": {},
          "execution_count": 52
        }
      ]
    }
  ],
  "metadata": {
    "kernelspec": {
      "display_name": "Python 3",
      "language": "python",
      "name": "python3"
    },
    "language_info": {
      "codemirror_mode": {
        "name": "ipython",
        "version": 3
      },
      "file_extension": ".py",
      "mimetype": "text/x-python",
      "name": "python",
      "nbconvert_exporter": "python",
      "pygments_lexer": "ipython3",
      "version": "3.8.8"
    },
    "colab": {
      "name": "TM.ipynb",
      "provenance": [],
      "include_colab_link": true
    }
  },
  "nbformat": 4,
  "nbformat_minor": 5
}